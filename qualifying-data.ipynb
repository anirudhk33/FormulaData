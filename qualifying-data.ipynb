{
 "cells": [
  {
   "attachments": {},
   "cell_type": "markdown",
   "metadata": {},
   "source": [
    "# Scraping Qualifying Data from https://www.formula1.com/"
   ]
  },
  {
   "cell_type": "code",
   "execution_count": 98,
   "metadata": {},
   "outputs": [],
   "source": [
    "import pandas as pd\n",
    "import numpy as np\n",
    "import requests\n",
    "from bs4 import BeautifulSoup\n",
    "from selenium import webdriver"
   ]
  },
  {
   "cell_type": "code",
   "execution_count": 100,
   "metadata": {},
   "outputs": [],
   "source": [
    "def parse_driver_name(row):\n",
    "    words = row.split()\n",
    "    parsed_string = ' '.join(words[:-1])\n",
    "    return parsed_string\n",
    "\n",
    "def parse_car_name(row):\n",
    "    words = row.split()\n",
    "    parsed_string = ' '.join(words)\n",
    "    return parsed_string"
   ]
  },
  {
   "cell_type": "code",
   "execution_count": 99,
   "metadata": {},
   "outputs": [
    {
     "name": "stdout",
     "output_type": "stream",
     "text": [
      "(634, 7)\n"
     ]
    }
   ],
   "source": [
    "qualifying_results = pd.DataFrame()\n",
    "\n",
    "for year in range(2022, 2024):\n",
    "    races_url = f'https://www.formula1.com/en/results.html/{year}/races.html'\n",
    "    response = requests.get(races_url)\n",
    "    soup = BeautifulSoup(response.text, 'html.parser')\n",
    "\n",
    "    race_links = []\n",
    "    filter_links = soup.find_all('a', attrs={'class': 'resultsarchive-filter-item-link FilterTrigger'})\n",
    "    for link in filter_links:\n",
    "        href = link.get('href')\n",
    "        if f'/en/results.html/{year}/races/' in href:\n",
    "            race_links.append(href)\n",
    "\n",
    "    year_df = pd.DataFrame()\n",
    "\n",
    "    round_num = 1\n",
    "    for race_link in race_links:\n",
    "        grid_link = race_link.replace('race-result.html', 'starting-grid.html')\n",
    "        try:\n",
    "            df = pd.read_html(f'https://www.formula1.com{grid_link}')[0]\n",
    "        except:\n",
    "            continue\n",
    "        df['season'] = year\n",
    "        df['round'] = round_num\n",
    "        df = df.loc[:, ~df.columns.str.contains('Unnamed')]\n",
    "        year_df = pd.concat([year_df, df], ignore_index=True)\n",
    "        round_num += 1\n",
    "\n",
    "    qualifying_results = pd.concat([qualifying_results, year_df], ignore_index=True)\n",
    "\n",
    "print(qualifying_results.shape)\n"
   ]
  },
  {
   "cell_type": "code",
   "execution_count": 101,
   "metadata": {},
   "outputs": [
    {
     "name": "stdout",
     "output_type": "stream",
     "text": [
      "     Pos  No                 Driver                    Car      Time  season  \\\n",
      "0      1  16  Charles  Leclerc  LEC                Ferrari  1:30.558    2022   \n",
      "1      2   1   Max  Verstappen  VER   Red Bull Racing RBPT  1:30.681    2022   \n",
      "2      3  55     Carlos  Sainz  SAI                Ferrari  1:30.687    2022   \n",
      "3      4  11     Sergio  Perez  PER   Red Bull Racing RBPT  1:30.921    2022   \n",
      "4      5  44   Lewis  Hamilton  HAM               Mercedes  1:31.238    2022   \n",
      "..   ...  ..                    ...                    ...       ...     ...   \n",
      "629   16  22     Yuki  Tsunoda  TSU  AlphaTauri Honda RBPT  1:30.025    2023   \n",
      "630   17  24      Zhou  Guanyu  ZHO     Alfa Romeo Ferrari  1:30.123    2023   \n",
      "631   18  21    Nyck  De Vries  DEV  AlphaTauri Honda RBPT  1:30.513    2023   \n",
      "632   19  20  Kevin  Magnussen  MAG           Haas Ferrari  1:32.378    2023   \n",
      "633   20  77  Valtteri  Bottas  BOT     Alfa Romeo Ferrari       NaN    2023   \n",
      "\n",
      "     round  \n",
      "0        1  \n",
      "1        1  \n",
      "2        1  \n",
      "3        1  \n",
      "4        1  \n",
      "..     ...  \n",
      "629     10  \n",
      "630     10  \n",
      "631     10  \n",
      "632     10  \n",
      "633     10  \n",
      "\n",
      "[634 rows x 7 columns]\n"
     ]
    }
   ],
   "source": [
    "print(qualifying_results)"
   ]
  },
  {
   "cell_type": "code",
   "execution_count": 102,
   "metadata": {},
   "outputs": [],
   "source": [
    "qualifying_results[\"Driver\"] = qualifying_results[\"Driver\"].apply(parse_driver_name)\n",
    "qualifying_results[\"Car\"] = qualifying_results[\"Car\"].apply(parse_car_name)\n",
    "qualifying_results.rename(columns = {'Pos': 'grid_position', 'No': 'car_number', 'Driver': 'driver_name', 'Car': 'constructor',\n",
    "                                     'Time': 'qualifying_time'}, inplace = True)"
   ]
  },
  {
   "cell_type": "code",
   "execution_count": 104,
   "metadata": {},
   "outputs": [
    {
     "name": "stdout",
     "output_type": "stream",
     "text": [
      "     season  round  grid_position      driver_name qualifying_time\n",
      "0      2022      1              1  Charles Leclerc        1:30.558\n",
      "1      2022      1              2   Max Verstappen        1:30.681\n",
      "2      2022      1              3     Carlos Sainz        1:30.687\n",
      "3      2022      1              4     Sergio Perez        1:30.921\n",
      "4      2022      1              5   Lewis Hamilton        1:31.238\n",
      "..      ...    ...            ...              ...             ...\n",
      "629    2023     10             16     Yuki Tsunoda        1:30.025\n",
      "630    2023     10             17      Zhou Guanyu        1:30.123\n",
      "631    2023     10             18    Nyck De Vries        1:30.513\n",
      "632    2023     10             19  Kevin Magnussen        1:32.378\n",
      "633    2023     10             20  Valtteri Bottas             NaN\n",
      "\n",
      "[634 rows x 5 columns]\n"
     ]
    }
   ],
   "source": [
    "qualifying_results = qualifying_results[['season', 'round', 'grid_position', 'driver_name', 'qualifying_time']]\n",
    "print(qualifying_results)"
   ]
  }
 ],
 "metadata": {
  "kernelspec": {
   "display_name": "formulakernel",
   "language": "python",
   "name": "formulakernel"
  },
  "language_info": {
   "codemirror_mode": {
    "name": "ipython",
    "version": 3
   },
   "file_extension": ".py",
   "mimetype": "text/x-python",
   "name": "python",
   "nbconvert_exporter": "python",
   "pygments_lexer": "ipython3",
   "version": "3.10.5"
  },
  "orig_nbformat": 4
 },
 "nbformat": 4,
 "nbformat_minor": 2
}
