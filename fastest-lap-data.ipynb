{
 "cells": [
  {
   "cell_type": "code",
   "execution_count": 31,
   "metadata": {},
   "outputs": [],
   "source": [
    "import pandas as pd\n",
    "import numpy as np\n",
    "import requests\n",
    "from bs4 import BeautifulSoup\n",
    "from selenium import webdriver"
   ]
  },
  {
   "cell_type": "code",
   "execution_count": 32,
   "metadata": {},
   "outputs": [],
   "source": [
    "def parse_driver_name(row):\n",
    "    words = row.split()\n",
    "    parsed_string = ' '.join(words[:-1])\n",
    "    return parsed_string"
   ]
  },
  {
   "cell_type": "code",
   "execution_count": 33,
   "metadata": {},
   "outputs": [
    {
     "name": "stdout",
     "output_type": "stream",
     "text": [
      "(625, 8)\n"
     ]
    }
   ],
   "source": [
    "fastest_laps = pd.DataFrame()\n",
    "\n",
    "for year in range(2022, 2024):\n",
    "    races_url = f'https://www.formula1.com/en/results.html/{year}/races.html'\n",
    "    response = requests.get(races_url)\n",
    "    soup = BeautifulSoup(response.text, 'html.parser')\n",
    "\n",
    "    race_links = []\n",
    "    filter_links = soup.find_all('a', attrs={'class': 'resultsarchive-filter-item-link FilterTrigger'})\n",
    "    for link in filter_links:\n",
    "        href = link.get('href')\n",
    "        if f'/en/results.html/{year}/races/' in href:\n",
    "            race_links.append(href)\n",
    "\n",
    "    year_df = pd.DataFrame()\n",
    "\n",
    "    round_num = 1\n",
    "    for race_link in race_links:\n",
    "        fastest_lap_link = race_link.replace('race-result.html', 'fastest-laps.html')\n",
    "        try:\n",
    "            df = pd.read_html(f'https://www.formula1.com{fastest_lap_link}')[0]\n",
    "            df = df[['Pos', 'Driver', 'Lap', 'Time of day', \"Time\", \"Avg Speed\"]]\n",
    "        except:\n",
    "            continue\n",
    "        df['season'] = year\n",
    "        df['round'] = round_num\n",
    "        df = df.loc[:, ~df.columns.str.contains('Unnamed')]\n",
    "        year_df = pd.concat([year_df, df], ignore_index=True)\n",
    "        round_num += 1\n",
    "\n",
    "    fastest_laps = pd.concat([fastest_laps, year_df], ignore_index=True)\n",
    "\n",
    "fastest_laps.rename(columns={'Driver':'driver','Pos': 'fastest_lap_pos', 'Lap':'fastest_lap_number', 'Time of day':'time_of_day', 'Time':'lap_time', 'Avg Speed': 'avg_speed'}, inplace=True)\n",
    "print(fastest_laps.shape)\n"
   ]
  },
  {
   "cell_type": "code",
   "execution_count": 34,
   "metadata": {},
   "outputs": [],
   "source": [
    "fastest_laps[\"Driver\"] = fastest_laps[\"Driver\"].apply(parse_driver_name)"
   ]
  },
  {
   "cell_type": "code",
   "execution_count": 38,
   "metadata": {},
   "outputs": [
    {
     "name": "stdout",
     "output_type": "stream",
     "text": [
      "   fastest_lap_pos           Driver  fastest_lap_number time_of_day  lap_time  \\\n",
      "0                1  Charles Leclerc                  51    19:31:35  1:34.570   \n",
      "1                2   Max Verstappen                  51    19:31:37  1:35.440   \n",
      "2                3     Carlos Sainz                  52    19:33:13  1:35.740   \n",
      "3                4     Sergio Perez                  52    19:33:14  1:36.089   \n",
      "4                5   Lewis Hamilton                  53    19:34:51  1:36.228   \n",
      "\n",
      "   avg_speed  season  round  \n",
      "0    206.018    2022      1  \n",
      "1    204.140    2022      1  \n",
      "2    203.501    2022      1  \n",
      "3    202.762    2022      1  \n",
      "4    202.469    2022      1  \n"
     ]
    }
   ],
   "source": [
    "print(fastest_laps.head())"
   ]
  },
  {
   "cell_type": "code",
   "execution_count": 36,
   "metadata": {},
   "outputs": [
    {
     "name": "stdout",
     "output_type": "stream",
     "text": [
      "Index(['fastest_lap_pos', 'Driver', 'fastest_lap_number', 'time_of_day',\n",
      "       'lap_time', 'avg_speed', 'season', 'round'],\n",
      "      dtype='object')\n"
     ]
    }
   ],
   "source": [
    "print(fastest_laps.columns)"
   ]
  },
  {
   "cell_type": "code",
   "execution_count": null,
   "metadata": {},
   "outputs": [],
   "source": []
  }
 ],
 "metadata": {
  "kernelspec": {
   "display_name": "formulakernel",
   "language": "python",
   "name": "formulakernel"
  },
  "language_info": {
   "codemirror_mode": {
    "name": "ipython",
    "version": 3
   },
   "file_extension": ".py",
   "mimetype": "text/x-python",
   "name": "python",
   "nbconvert_exporter": "python",
   "pygments_lexer": "ipython3",
   "version": "3.10.5"
  },
  "orig_nbformat": 4
 },
 "nbformat": 4,
 "nbformat_minor": 2
}
