{
 "cells": [
  {
   "cell_type": "code",
   "execution_count": 137,
   "metadata": {},
   "outputs": [],
   "source": [
    "import pandas as pd\n",
    "import numpy as np\n",
    "from fuzzywuzzy import fuzz\n",
    "\n",
    "link = '/Users/anirudhkrishna/GitHub/FormulaData/csv-data/cleaned_race_data.csv'"
   ]
  },
  {
   "cell_type": "code",
   "execution_count": 138,
   "metadata": {},
   "outputs": [],
   "source": [
    "f1_data = pd.read_csv(link)"
   ]
  },
  {
   "cell_type": "code",
   "execution_count": 139,
   "metadata": {},
   "outputs": [
    {
     "name": "stdout",
     "output_type": "stream",
     "text": [
      "['Great Britain' 'Monaco' 'Indianapolis 500' 'Switzerland' 'Belgium'\n",
      " 'France' 'Italy' 'Germany' 'Spain' 'Netherlands' 'Argentina' 'Pescara'\n",
      " 'Portugal' 'Morocco' 'United States' 'South Africa' 'Mexico' 'Austria'\n",
      " 'Canada' 'Brazil' 'Sweden' 'USA West' 'USA East' 'Japan' 'San Marino'\n",
      " 'Las Vegas' 'Detroit' 'Europe' 'Dallas' 'Australia' 'Hungary' 'Pacific'\n",
      " 'Luxembourg' 'Malaysia' 'Bahrain' 'China' 'Turkey' 'Singapore'\n",
      " 'Abu Dhabi' 'South Korea' 'India' 'Russia' 'Azerbaijan' 'Styria'\n",
      " '70th Anniversary' 'Tuscany' 'Eifel' 'Emilia Romagna' 'Sakhir' 'Qatar'\n",
      " 'Saudi Arabia' 'Miami']\n"
     ]
    }
   ],
   "source": [
    "unique_locations = f1_data['location'].unique()\n",
    "print(unique_locations)\n",
    "f1_data['location'].replace('70th Anniversary', 'Great Britain', inplace=True)\n",
    "f1_data['location'].replace('Emilia Romagna', 'San Marino', inplace=True)\n",
    "f1_data['location'].replace('Styria', 'Austria', inplace=True)"
   ]
  },
  {
   "cell_type": "code",
   "execution_count": 140,
   "metadata": {},
   "outputs": [],
   "source": [
    "one_hot_encoded = pd.get_dummies(f1_data['location'])\n",
    "formatted_columns = ['location_' + column.lower().replace(' ', '_') for column in one_hot_encoded.columns]\n",
    "one_hot_encoded.columns = formatted_columns\n",
    "f1_data = pd.concat([f1_data, one_hot_encoded], axis=1)\n",
    "f1_data = f1_data.drop('location', axis=1)"
   ]
  },
  {
   "cell_type": "code",
   "execution_count": 141,
   "metadata": {},
   "outputs": [],
   "source": [
    "f1_data['weather'] = f1_data['weather'].fillna(f1_data['weather'].mode()[0])\n",
    "one_hot_encoded = pd.get_dummies(f1_data['weather'])\n",
    "formatted_columns = ['weather_' + column.lower().replace(' ', '_') for column in one_hot_encoded.columns]\n",
    "one_hot_encoded.columns = formatted_columns\n",
    "f1_data = pd.concat([f1_data, one_hot_encoded], axis=1)"
   ]
  },
  {
   "cell_type": "code",
   "execution_count": 142,
   "metadata": {},
   "outputs": [],
   "source": [
    "replacement_map = {'dry': 0, 'cloudy': 1, 'wet': 2}\n",
    "f1_data['weather'] = f1_data['weather'].replace(replacement_map)"
   ]
  },
  {
   "cell_type": "code",
   "execution_count": 143,
   "metadata": {},
   "outputs": [
    {
     "name": "stdout",
     "output_type": "stream",
     "text": [
      "['1' '2' '3' '4' '5' '6' '7' '8' '9' '10' '11' 'NC' '31' '12' '13' '14'\n",
      " '15' '16' '17' '18' '19' '20' '21' '22' '23' '24' '25' '28' '26' '27'\n",
      " '29' '30' '32' '33' 'DQ' 'EX']\n"
     ]
    }
   ],
   "source": [
    "print(f1_data['race_finishing_position'].unique())\n",
    "f1_data['race_finishing_position'].replace('NC', '20', inplace=True)\n",
    "f1_data['race_finishing_position'].replace('DQ', '20', inplace=True)\n",
    "f1_data['race_finishing_position'].replace('EX', '20', inplace=True)\n",
    "f1_data['race_finishing_position'] = f1_data['race_finishing_position'].astype(int)"
   ]
  },
  {
   "cell_type": "code",
   "execution_count": 144,
   "metadata": {},
   "outputs": [],
   "source": [
    "f1_data['net_positions_gained'] = f1_data['net_positions_gained'].fillna(0)\n",
    "f1_data['net_positions_gained'] = f1_data['net_positions_gained'].astype(int)"
   ]
  },
  {
   "cell_type": "code",
   "execution_count": 145,
   "metadata": {},
   "outputs": [],
   "source": [
    "f1_data['grid_position'].replace('NC', '20', inplace=True)\n",
    "f1_data['grid_position'].replace('DQ', '20', inplace=True)\n",
    "f1_data['grid_position'].replace('EX', '20', inplace=True)\n",
    "f1_data['grid_position'] = f1_data['grid_position'].fillna(11)\n",
    "f1_data['grid_position'] = f1_data['grid_position'].astype(int)"
   ]
  },
  {
   "cell_type": "code",
   "execution_count": 146,
   "metadata": {},
   "outputs": [],
   "source": [
    "f1_data['fp1_position'].replace('NC', '20', inplace=True)\n",
    "f1_data['fp1_position'].replace('DQ', '20', inplace=True)\n",
    "f1_data['fp1_position'].replace('EX', '20', inplace=True)\n",
    "f1_data['fp1_position'] = f1_data['fp1_position'].fillna(11)\n",
    "f1_data['fp1_position'] = f1_data['fp1_position'].astype(int)"
   ]
  },
  {
   "cell_type": "code",
   "execution_count": 147,
   "metadata": {},
   "outputs": [],
   "source": [
    "f1_data['fp2_position'].replace('NC', '20', inplace=True)\n",
    "f1_data['fp2_position'].replace('DQ', '20', inplace=True)\n",
    "f1_data['fp2_position'].replace('EX', '20', inplace=True)\n",
    "f1_data['fp2_position'] = f1_data['fp2_position'].fillna(11)\n",
    "f1_data['fp2_position'] = f1_data['fp2_position'].astype(int)"
   ]
  },
  {
   "cell_type": "code",
   "execution_count": 148,
   "metadata": {},
   "outputs": [],
   "source": [
    "f1_data['fp3_position'].replace('NC', '20', inplace=True)\n",
    "f1_data['fp3_position'].replace('DQ', '20', inplace=True)\n",
    "f1_data['fp3_position'].replace('EX', '20', inplace=True)\n",
    "f1_data['fp3_position'] = f1_data['fp3_position'].fillna(11)\n",
    "f1_data['fp3_position'] = f1_data['fp3_position'].astype(int)"
   ]
  },
  {
   "cell_type": "code",
   "execution_count": 149,
   "metadata": {},
   "outputs": [],
   "source": [
    "f1_data['fastest_lap_position'].replace('NC', '20', inplace=True)\n",
    "f1_data['fastest_lap_position'].replace('DQ', '20', inplace=True)\n",
    "f1_data['fastest_lap_position'].replace('EX', '20', inplace=True)\n",
    "f1_data['fastest_lap_position'] = f1_data['fastest_lap_position'].fillna(11)\n",
    "f1_data['fastest_lap_position'] = f1_data['fastest_lap_position'].astype(int)"
   ]
  },
  {
   "cell_type": "code",
   "execution_count": 150,
   "metadata": {},
   "outputs": [],
   "source": [
    "def parse_circuit_length(length):\n",
    "    try:\n",
    "      return float(length[0:4])\n",
    "    except:\n",
    "       return float(5)\n",
    "\n",
    "f1_data['circuit_length'] = f1_data['circuit_length'].apply(parse_circuit_length)"
   ]
  },
  {
   "cell_type": "code",
   "execution_count": 151,
   "metadata": {},
   "outputs": [],
   "source": [
    "f1_data['latitude'] = f1_data['latitude'] .fillna(f1_data['latitude'] .mean())\n",
    "f1_data['longitude'] = f1_data['longitude'] .fillna(f1_data['longitude'] .mean())"
   ]
  },
  {
   "cell_type": "code",
   "execution_count": 152,
   "metadata": {},
   "outputs": [],
   "source": [
    "f1_data = f1_data.drop(['net_positions_gained','date', 'car_number', 'race_time', 'qualifying_time', 'fastest_lap_number', 'fastest_lap_time', 'circuit_full_name', 'wikipedia_link'], axis = 1)"
   ]
  },
  {
   "cell_type": "code",
   "execution_count": 153,
   "metadata": {},
   "outputs": [
    {
     "name": "stdout",
     "output_type": "stream",
     "text": [
      "season                       int64\n",
      "round                        int64\n",
      "weather                      int64\n",
      "race_finishing_position      int64\n",
      "driver_name                 object\n",
      "constructor_name            object\n",
      "has_fastest_lap              int64\n",
      "race_laps_completed          int64\n",
      "points                       int64\n",
      "grid_position                int64\n",
      "fp1_position                 int64\n",
      "fp2_position                 int64\n",
      "fp3_position                 int64\n",
      "fastest_lap_position         int64\n",
      "circuit_length             float64\n",
      "latitude                   float64\n",
      "longitude                  float64\n",
      "location_abu_dhabi            bool\n",
      "location_argentina            bool\n",
      "location_australia            bool\n",
      "dtype: object\n"
     ]
    }
   ],
   "source": [
    "print(f1_data.dtypes[0:20])"
   ]
  },
  {
   "cell_type": "code",
   "execution_count": 154,
   "metadata": {},
   "outputs": [
    {
     "name": "stdout",
     "output_type": "stream",
     "text": [
      "(15824, 69)\n"
     ]
    }
   ],
   "source": [
    "# print(len(f1_data['constructor_name'].unique()))\n",
    "f1_data = f1_data.iloc[8578:]\n",
    "print(f1_data.shape)"
   ]
  },
  {
   "cell_type": "code",
   "execution_count": 155,
   "metadata": {},
   "outputs": [
    {
     "name": "stdout",
     "output_type": "stream",
     "text": [
      "{'March Ford': 'Minardi Ford', 'McLaren Honda': 'McLaren Ford', 'McLaren Mercedes': 'Sauber Mercedes', 'Williams Honda': 'Williams Ford', 'Williams Judd': 'Williams Honda', 'Williams BMW': 'Williams Judd', 'Williams Cosworth': 'Williams Ford', 'Williams Toyota': 'Williams Cosworth', 'Williams Mercedes': 'Williams Supertec', 'Lola Ferrari': 'Dallara Ferrari', 'RBR Ferrari': 'Ferrari', 'STR Ferrari': 'RBR Ferrari', 'Haas Ferrari': 'Marussia Ferrari', 'Larrousse Ford': 'Lotus Ford', 'Arrows': 'Arrows BMW', 'RBR Renault': 'Red Bull Renault', 'STR Renault': 'RBR Renault', 'Lola Hart': 'Toleman Hart', 'Tyrrell Honda': 'Tyrrell Renault', 'Tyrrell Ilmor': 'Tyrrell Ford', 'Lola Ford': 'Lotus Ford', 'Lotus Honda': 'Lotus Ford', 'AGS Ford': 'RAM Ford', 'Rial Ford': 'RAM Ford', 'Ligier Judd': 'Ligier Ford', 'Osella Alfa Romeo': 'Alfa Romeo', 'Alfa Romeo Ferrari': 'Alfa Romeo Racing Ferrari', 'Osella': 'Osella Ford', 'Spirit Hart': 'Spirit Honda', 'Williams Renault': 'Williams Honda', 'Alpine Renault': 'Ligier Renault', 'Minardi Ferrari': 'Minardi Ford', 'Minardi Hart': 'Minardi Ferrari', 'Minardi Fondmetal': 'Minardi Ford', 'Minardi Cosworth': 'Jaguar Cosworth', 'AGS Motori Moderni': 'Minardi Motori Moderni', 'Red Bull Renault': 'Tyrrell Renault', 'Benetton Ford': 'Benetton BMW', 'Lotus Mugen Honda': 'Footwork Mugen Honda', 'March Ilmor': 'March Ford', 'McLaren Renault': 'McLaren Peugeot', 'Euro Brun Judd': 'Euro Brun Ford', 'Moda Judd': 'March Judd', 'Dallara Judd': 'Dallara Ford', 'Dallara Ferrari': 'Dallara Ford', 'Lotus Lamborghini': 'Lola Lamborghini', 'Lambo Lamborghini': 'Lotus Lamborghini', 'Ligier Lamborghini': 'Lambo Lamborghini', 'Minardi Lamborghini': 'Venturi Lamborghini', 'Larrousse Lamborghini': 'Ligier Lamborghini', 'Leyton House Ilmor': 'Leyton House Judd', 'Venturi Lamborghini': 'Lotus Lamborghini', 'Marussia Ferrari': 'Dallara Ferrari', 'Jordan Hart': 'Jordan Ford', 'Jordan Honda': 'Jordan Mugen Honda', 'Footwork Ford': 'Footwork Porsche', 'Prost Mugen Honda': 'Ligier Mugen Honda', 'Jordan Mugen Honda': 'Prost Mugen Honda', 'Sauber Ford': 'Sauber', 'Sauber BMW': 'Sauber', 'Ligier Mugen Honda': 'Lotus Mugen Honda', 'Footwork Hart': 'Footwork Ford', 'Brawn Mercedes': 'McLaren Mercedes', 'MRT Mercedes': 'Mercedes', 'Sauber Ferrari': 'Spyker Ferrari', 'Minardi Asiatech': 'Minardi Hart', 'Arrows Supertec': 'BAR Supertec', 'Honda': 'BAR Honda', 'Jordan Toyota': 'Jordan Honda', 'MF1 Toyota': 'Toyota', 'Lotus Cosworth': 'Arrows Cosworth', 'Virgin Cosworth': 'Minardi Cosworth', 'Marussia Cosworth': 'Lotus Cosworth', 'STR Cosworth': 'RBR Cosworth', 'HRT Cosworth': 'STR Cosworth', 'Red Bull Racing Renault': 'Red Bull Renault', 'Spyker Ferrari': 'STR Ferrari', 'Force India Mercedes': 'Force India Ferrari', 'Mercedes': 'Brawn Mercedes', 'Lotus Mercedes': 'Mercedes', 'Red Bull Racing TAG Heuer': 'Red Bull Racing Renault', 'Red Bull Racing Honda': 'Red Bull Racing TAG Heuer', 'Red Bull Racing RBPT': 'Red Bull Racing Honda', 'Toro Rosso': 'Toro Rosso Ferrari', 'Red Bull Racing Honda RBPT': 'Red Bull Racing RBPT', 'AlphaTauri RBPT': 'AlphaTauri Honda', 'AlphaTauri Honda RBPT': 'AlphaTauri RBPT', 'Aston Martin Aramco Mercedes': 'Aston Martin Mercedes'}\n"
     ]
    }
   ],
   "source": [
    "team_names = f1_data['constructor_name'].unique().tolist()\n",
    "\n",
    "# Create an empty dictionary to store the mappings\n",
    "team_name_mapping = {}\n",
    "\n",
    "# Iterate over each team name\n",
    "for i, name in enumerate(team_names):\n",
    "    # Check if the team name is not already mapped\n",
    "    if name not in team_name_mapping.values():\n",
    "        # Iterate over the remaining team names\n",
    "        for j in range(i+1, len(team_names)):\n",
    "            # Calculate the similarity score between the current and remaining team names\n",
    "            similarity_score = fuzz.ratio(name, team_names[j])\n",
    "            # If the similarity score is above a certain threshold, consider them as the same team\n",
    "            if similarity_score > 70:\n",
    "                # Map the remaining team name to the original team name\n",
    "                team_name_mapping[team_names[j]] = name\n",
    "\n",
    "# Print the team name mappings\n",
    "# for k, v in team_name_mapping.items():\n",
    "#     print(f\"{k} --> {v}\")\n",
    "\n",
    "print(team_name_mapping)\n"
   ]
  },
  {
   "cell_type": "code",
   "execution_count": 156,
   "metadata": {},
   "outputs": [],
   "source": [
    "team_name_mapping_improved = {'Alfa Romeo Racing Ferrari':'Alfa Romeo','March Ford': 'Ford', 'McLaren Honda': 'McLaren', 'McLaren Mercedes': 'McLaren', 'Williams Honda': 'Williams', 'Williams Judd': 'Williams', 'Williams BMW': 'Williams', 'Williams Cosworth': 'Williams', 'Williams Toyota': 'Williams', 'Williams': 'Williams', 'Lola Ferrari': 'Ferrari', 'RBR Ferrari': 'Red Bull Racing', 'STR Ferrari': 'Toro Rosso', 'Haas Ferrari': 'Haas', 'Larrousse Ford': 'Ford', 'Arrows': 'Arrows', 'RBR Renault': 'Red Bull Racing', 'STR Renault': 'Toro Rosso', 'Lola Hart': 'Hart', 'Tyrrell Honda': 'Tyrrell', 'Tyrrell Ilmor': 'Tyrrell', 'Lola Ford': 'Ford', 'Lotus Honda': 'Lotus', 'AGS Ford': 'Ford', 'Rial Ford': 'Ford', 'Ligier Judd': 'Ligier', 'Osella Alfa Romeo': 'Alfa Romeo', 'Alfa Romeo Ferrari': 'Alfa Romeo', 'Osella': 'Osella', 'Spirit Hart': 'Spirit', 'Williams Renault': 'Williams', 'Alpine Renault': 'Renault', 'Minardi Ferrari': 'Minardi', 'Minardi Hart': 'Minardi', 'Minardi Fondmetal': 'Minardi', 'Minardi Cosworth': 'Minardi', 'AGS Motori Moderni': 'Motori Moderni', 'Red Bull Renault': 'Red Bull Racing', 'Benetton Ford': 'Benetton', 'Lotus Mugen Honda': 'Lotus', 'March Ilmor': 'March', 'McLaren Renault': 'McLaren', 'Euro Brun Judd': 'Euro Brun', 'Lotus Lamborghini': 'Lamborghini', 'Lambo Lamborghini': 'Lamborghini', 'Ligier Lamborghini': 'Lamborghini', 'Minardi Lamborghini': 'Lamborghini', 'Larrousse Lamborghini': 'Lamborghini', 'Venturi Lamborghini': 'Lamborghini', 'Marussia Ferrari': 'Marussia',  'Jordan Honda': 'Jordan Honda', 'Prost Mugen Honda': 'Mugen Honda', 'Jordan Mugen Honda': 'Mugen Honda', 'Sauber Ford': 'Sauber', 'Sauber BMW': 'Sauber', 'Ligier Mugen Honda': 'Mugen Honda', 'Sauber Ferrari': 'Alfa Romeo', 'Honda': 'Honda', 'Jordan Toyota': 'Jordan', 'MF1 Toyota': 'Toyota', 'Red Bull Racing Renault': 'Red Bull Racing', 'Force India Mercedes': 'Aston Martin', 'Mercedes': 'Mercedes', 'Lotus Mercedes': 'Lotus', 'Red Bull Racing TAG Heuer': 'Red Bull Racing', 'Red Bull Racing Honda': 'Red Bull Racing', 'Red Bull Racing RBPT': 'Red Bull Racing', 'Toro Rosso': 'Toro Rosso', 'Red Bull Racing Honda RBPT': 'Red Bull Racing', 'AlphaTauri RBPT': 'Toro Rosso', 'AlphaTauri Honda RBPT': 'Toro Rosso', 'Aston Martin Aramco Mercedes': 'Aston Martin', 'Force India Ferrari' : 'Aston Martin'}"
   ]
  },
  {
   "cell_type": "code",
   "execution_count": 157,
   "metadata": {},
   "outputs": [],
   "source": [
    "f1_data['constructor_name'] = f1_data['constructor_name'].replace(team_name_mapping_improved)"
   ]
  },
  {
   "cell_type": "code",
   "execution_count": 158,
   "metadata": {},
   "outputs": [],
   "source": [
    "one_hot_encoded = pd.get_dummies(f1_data['constructor_name'])\n",
    "formatted_columns = ['constructor_name_' + column.lower().replace(' ', '_') for column in one_hot_encoded.columns]\n",
    "one_hot_encoded.columns = formatted_columns\n",
    "f1_data = pd.concat([f1_data, one_hot_encoded], axis=1)\n",
    "f1_data = f1_data.drop('constructor_name', axis=1)"
   ]
  },
  {
   "cell_type": "code",
   "execution_count": 159,
   "metadata": {},
   "outputs": [],
   "source": [
    "one_hot_encoded = pd.get_dummies(f1_data['driver_name'])\n",
    "formatted_columns = ['driver_name_' + column.lower().replace(' ', '_') for column in one_hot_encoded.columns]\n",
    "one_hot_encoded.columns = formatted_columns\n",
    "f1_data = pd.concat([f1_data, one_hot_encoded], axis=1)\n",
    "f1_data = f1_data.drop('driver_name', axis=1)"
   ]
  },
  {
   "cell_type": "code",
   "execution_count": 160,
   "metadata": {},
   "outputs": [],
   "source": [
    "boolean_columns = f1_data.select_dtypes(include=bool).columns\n",
    "f1_data[boolean_columns] = f1_data[boolean_columns].astype(int)"
   ]
  },
  {
   "cell_type": "code",
   "execution_count": 161,
   "metadata": {},
   "outputs": [],
   "source": [
    "f1_data.to_csv('/Users/anirudhkrishna/GitHub/FormulaData/data-modelling/f1_data.csv', index=False)"
   ]
  },
  {
   "cell_type": "code",
   "execution_count": null,
   "metadata": {},
   "outputs": [],
   "source": []
  }
 ],
 "metadata": {
  "kernelspec": {
   "display_name": "formulakernel",
   "language": "python",
   "name": "formulakernel"
  },
  "language_info": {
   "codemirror_mode": {
    "name": "ipython",
    "version": 3
   },
   "file_extension": ".py",
   "mimetype": "text/x-python",
   "name": "python",
   "nbconvert_exporter": "python",
   "pygments_lexer": "ipython3",
   "version": "3.10.5"
  },
  "orig_nbformat": 4
 },
 "nbformat": 4,
 "nbformat_minor": 2
}
