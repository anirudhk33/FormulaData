{
 "cells": [
  {
   "cell_type": "code",
   "execution_count": 2,
   "metadata": {},
   "outputs": [],
   "source": [
    "import pandas as pd\n",
    "import gdown\n",
    "import requests"
   ]
  },
  {
   "cell_type": "code",
   "execution_count": 3,
   "metadata": {},
   "outputs": [],
   "source": [
    "df = pd.read_csv('/Users/anirudhkrishna/GitHub/FormulaData/csv-data/cleaned_race_data.csv')"
   ]
  },
  {
   "cell_type": "code",
   "execution_count": 4,
   "metadata": {},
   "outputs": [
    {
     "name": "stdout",
     "output_type": "stream",
     "text": [
      "['net_positions_gained', 'fp1_position', 'fp2_position', 'fp3_position', 'fastest_lap_position', 'fastest_lap_number', 'latitude', 'longitude']\n"
     ]
    }
   ],
   "source": [
    "string_columns = df.select_dtypes(include='object').columns.tolist()\n",
    "int_columns = df.select_dtypes(include='int64').columns.tolist()\n",
    "float_columns = df.select_dtypes(include='float64').columns.tolist()\n",
    "\n",
    "print(float_columns)"
   ]
  },
  {
   "cell_type": "code",
   "execution_count": 5,
   "metadata": {},
   "outputs": [],
   "source": [
    "drivers_and_constructors = df[['driver_name', 'constructor_name']].drop_duplicates(subset=['driver_name', 'constructor_name'])"
   ]
  },
  {
   "cell_type": "code",
   "execution_count": 6,
   "metadata": {},
   "outputs": [],
   "source": [
    "circuit_details = df[['location', 'latitude', 'longitude', 'circuit_length', 'circuit_full_name']].drop_duplicates(subset=['circuit_full_name'])"
   ]
  },
  {
   "cell_type": "code",
   "execution_count": 7,
   "metadata": {},
   "outputs": [
    {
     "name": "stdout",
     "output_type": "stream",
     "text": [
      "               location   latitude   longitude           circuit_length  \\\n",
      "0         Great Britain  55.378051   -3.435973      4.649 km (2.889 mi)   \n",
      "23               Monaco  43.750298    7.412841   3.180 km (1.976 miles)   \n",
      "42     Indianapolis 500  37.090240  -95.712891     4.023 km (2.5 miles)   \n",
      "78          Switzerland  46.818188    8.227512    7.28 km (4.524 miles)   \n",
      "96              Belgium  50.503887    4.469936  14.120 km (8.825 miles)   \n",
      "...                 ...        ...         ...                      ...   \n",
      "24182         Abu Dhabi  23.424076   53.847818   5.281 km (3.281 miles)   \n",
      "24222      Saudi Arabia  23.885942   45.079162   6.174 km (3.836 miles)   \n",
      "24242         Australia -25.274398  133.775136   5.278 km (3.280 miles)   \n",
      "24322             Spain  40.463667   -3.749220   4.657 km (2.894 miles)   \n",
      "24342            Canada  56.130366 -106.346771   4.361 km (2.710 miles)   \n",
      "\n",
      "                                       circuit_full_name  \n",
      "0               Silverstone Circuit Silverstone, England  \n",
      "23                                     Circuit de Monaco  \n",
      "42                           Indianapolis Motor Speedway  \n",
      "78                         Bremgarten, Bern, Switzerland  \n",
      "96                       Spa-Francorchamps, Spa, Belgium  \n",
      "...                                                  ...  \n",
      "24182  Yas Marina Circuit Abu Dhabi, United Arab Emir...  \n",
      "24222       Jeddah Corniche Circuit Jeddah, Saudi Arabia  \n",
      "24242  Albert Park Circuit Melbourne, Victoria, Austr...  \n",
      "24322    Circuit de Barcelona-Catalunya, Montmeló, Spain  \n",
      "24342  Circuit Gilles Villeneuve, Montréal, Quebec, C...  \n",
      "\n",
      "[295 rows x 5 columns]\n"
     ]
    }
   ],
   "source": [
    "print(circuit_details)"
   ]
  },
  {
   "cell_type": "code",
   "execution_count": 8,
   "metadata": {},
   "outputs": [
    {
     "name": "stdout",
     "output_type": "stream",
     "text": [
      "Request failed with status code 403\n"
     ]
    }
   ],
   "source": [
    "\n",
    "\n",
    "# Specify the API URL\n",
    "url = 'http://localhost:5000/api/f1'\n",
    "\n",
    "# Define the query parameters\n",
    "params = {\n",
    "    'season': 2022,\n",
    "    'weather': 'wet',\n",
    "    'driver_name':'Fernando Alonso'\n",
    "}\n",
    "\n",
    "# Send the GET request\n",
    "response = requests.get(url, params=params)\n",
    "\n",
    "# Check if the request was successful\n",
    "if response.status_code == 200:\n",
    "    # Print the response content (JSON data)\n",
    "    data = response.json()\n",
    "    print(data)\n",
    "else:\n",
    "    # Print the error message\n",
    "    print(f'Request failed with status code {response.status_code}')\n"
   ]
  },
  {
   "cell_type": "code",
   "execution_count": 9,
   "metadata": {},
   "outputs": [
    {
     "name": "stderr",
     "output_type": "stream",
     "text": [
      "Downloading...\n",
      "From: https://drive.google.com/uc?id=1dVKzWsdiImuWDDQ9CnRFSHK0Lcr_xK6P\n",
      "To: /Users/anirudhkrishna/GitHub/FormulaData/api/data.csv\n",
      "100%|██████████| 6.34M/6.34M [00:00<00:00, 8.41MB/s]\n"
     ]
    },
    {
     "name": "stdout",
     "output_type": "stream",
     "text": [
      "       season  round       location weather          date  \\\n",
      "0        1950      1  Great Britain     dry  13 May, 1950   \n",
      "1        1950      1  Great Britain     dry  13 May, 1950   \n",
      "2        1950      1  Great Britain     dry  13 May, 1950   \n",
      "3        1950      1  Great Britain     dry  13 May, 1950   \n",
      "4        1950      1  Great Britain     dry  13 May, 1950   \n",
      "...       ...    ...            ...     ...           ...   \n",
      "24397    2023     10  Great Britain  cloudy  9 July, 2023   \n",
      "24398    2023     10  Great Britain  cloudy  9 July, 2023   \n",
      "24399    2023     10  Great Britain  cloudy  9 July, 2023   \n",
      "24400    2023     10  Great Britain  cloudy  9 July, 2023   \n",
      "24401    2023     10  Great Britain  cloudy  9 July, 2023   \n",
      "\n",
      "      race_finishing_position            driver_name       constructor_name  \\\n",
      "0                           1            Nino Farina             Alfa Romeo   \n",
      "1                           2          Luigi Fagioli             Alfa Romeo   \n",
      "2                           3            Reg Parnell             Alfa Romeo   \n",
      "3                           4  Yves Giraud-Cabantous            Talbot-Lago   \n",
      "4                           5           Louis Rosier            Talbot-Lago   \n",
      "...                       ...                    ...                    ...   \n",
      "24397                      16           Yuki Tsunoda  AlphaTauri Honda RBPT   \n",
      "24398                      17          Nyck De Vries  AlphaTauri Honda RBPT   \n",
      "24399                      18           Pierre Gasly         Alpine Renault   \n",
      "24400                      NC        Kevin Magnussen           Haas Ferrari   \n",
      "24401                      NC           Esteban Ocon         Alpine Renault   \n",
      "\n",
      "       car_number  net_positions_gained  ...  fp2_position  fp3_position  \\\n",
      "0               2                   NaN  ...           NaN           NaN   \n",
      "1               3                   NaN  ...           NaN           NaN   \n",
      "2               4                   NaN  ...           NaN           NaN   \n",
      "3              14                   NaN  ...           NaN           NaN   \n",
      "4              15                   NaN  ...           NaN           NaN   \n",
      "...           ...                   ...  ...           ...           ...   \n",
      "24397          22                   0.0  ...          18.0          10.0   \n",
      "24398          21                   1.0  ...          19.0          11.0   \n",
      "24399          10                  -8.0  ...           8.0           4.0   \n",
      "24400          20                  -1.0  ...          17.0          15.0   \n",
      "24401          31                  -7.0  ...          13.0          16.0   \n",
      "\n",
      "      fastest_lap_position  fastest_lap_number fastest_lap_time  \\\n",
      "0                      1.0                 2.0         1:50.600   \n",
      "1                      NaN                 NaN              NaN   \n",
      "2                      NaN                 NaN              NaN   \n",
      "3                      NaN                 NaN              NaN   \n",
      "4                      NaN                 NaN              NaN   \n",
      "...                    ...                 ...              ...   \n",
      "24397                 17.0                48.0         1:32.084   \n",
      "24398                 18.0                48.0         1:32.353   \n",
      "24399                 12.0                42.0         1:31.539   \n",
      "24400                 19.0                29.0         1:33.356   \n",
      "24401                 20.0                 4.0         1:33.941   \n",
      "\n",
      "                                     circuit_full_name  \\\n",
      "0             Silverstone Circuit Silverstone, England   \n",
      "1             Silverstone Circuit Silverstone, England   \n",
      "2             Silverstone Circuit Silverstone, England   \n",
      "3             Silverstone Circuit Silverstone, England   \n",
      "4             Silverstone Circuit Silverstone, England   \n",
      "...                                                ...   \n",
      "24397  Silverstone Circuit Silverstone, United Kingdom   \n",
      "24398  Silverstone Circuit Silverstone, United Kingdom   \n",
      "24399  Silverstone Circuit Silverstone, United Kingdom   \n",
      "24400  Silverstone Circuit Silverstone, United Kingdom   \n",
      "24401  Silverstone Circuit Silverstone, United Kingdom   \n",
      "\n",
      "               circuit_length   latitude  longitude  \\\n",
      "0         4.649 km (2.889 mi)  55.378051  -3.435973   \n",
      "1         4.649 km (2.889 mi)  55.378051  -3.435973   \n",
      "2         4.649 km (2.889 mi)  55.378051  -3.435973   \n",
      "3         4.649 km (2.889 mi)  55.378051  -3.435973   \n",
      "4         4.649 km (2.889 mi)  55.378051  -3.435973   \n",
      "...                       ...        ...        ...   \n",
      "24397  5.891 km (3.660 miles)  55.378051  -3.435973   \n",
      "24398  5.891 km (3.660 miles)  55.378051  -3.435973   \n",
      "24399  5.891 km (3.660 miles)  55.378051  -3.435973   \n",
      "24400  5.891 km (3.660 miles)  55.378051  -3.435973   \n",
      "24401  5.891 km (3.660 miles)  55.378051  -3.435973   \n",
      "\n",
      "                                          wikipedia_link  \n",
      "0      https://en.wikipedia.org/wiki/1950_British_Gra...  \n",
      "1      https://en.wikipedia.org/wiki/1950_British_Gra...  \n",
      "2      https://en.wikipedia.org/wiki/1950_British_Gra...  \n",
      "3      https://en.wikipedia.org/wiki/1950_British_Gra...  \n",
      "4      https://en.wikipedia.org/wiki/1950_British_Gra...  \n",
      "...                                                  ...  \n",
      "24397  https://en.wikipedia.org/wiki/2023_British_Gra...  \n",
      "24398  https://en.wikipedia.org/wiki/2023_British_Gra...  \n",
      "24399  https://en.wikipedia.org/wiki/2023_British_Gra...  \n",
      "24400  https://en.wikipedia.org/wiki/2023_British_Gra...  \n",
      "24401  https://en.wikipedia.org/wiki/2023_British_Gra...  \n",
      "\n",
      "[24402 rows x 27 columns]\n"
     ]
    }
   ],
   "source": [
    "import gdown\n",
    "import pandas as pd\n",
    "\n",
    "# Google Drive file ID\n",
    "file_id = '1dVKzWsdiImuWDDQ9CnRFSHK0Lcr_xK6P'\n",
    "\n",
    "# Download the CSV file from Google Drive\n",
    "url = f'https://drive.google.com/uc?id={file_id}'\n",
    "output = 'data.csv'\n",
    "gdown.download(url, output, quiet=False)\n",
    "\n",
    "# Read the CSV file into a DataFrame\n",
    "df = pd.read_csv(output)\n",
    "\n",
    "# Print the DataFrame\n",
    "print(df)\n"
   ]
  },
  {
   "cell_type": "code",
   "execution_count": 12,
   "metadata": {},
   "outputs": [],
   "source": [
    "key_data = df[['season', 'round', 'location', 'weather', 'driver_name', 'constructor_name', 'race_finishing_position', 'grid_position', 'points']]\n"
   ]
  },
  {
   "cell_type": "code",
   "execution_count": null,
   "metadata": {},
   "outputs": [],
   "source": []
  }
 ],
 "metadata": {
  "kernelspec": {
   "display_name": "formulakernel",
   "language": "python",
   "name": "formulakernel"
  },
  "language_info": {
   "codemirror_mode": {
    "name": "ipython",
    "version": 3
   },
   "file_extension": ".py",
   "mimetype": "text/x-python",
   "name": "python",
   "nbconvert_exporter": "python",
   "pygments_lexer": "ipython3",
   "version": "3.10.5"
  },
  "orig_nbformat": 4
 },
 "nbformat": 4,
 "nbformat_minor": 2
}
