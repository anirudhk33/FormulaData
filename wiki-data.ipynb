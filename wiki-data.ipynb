{
 "cells": [
  {
   "attachments": {},
   "cell_type": "markdown",
   "metadata": {},
   "source": [
    "# Scraping Data from https://en.wikipedia.org/wiki"
   ]
  },
  {
   "cell_type": "code",
   "execution_count": 1,
   "metadata": {},
   "outputs": [],
   "source": [
    "import pandas as pd\n",
    "import numpy as np\n",
    "from bs4 import BeautifulSoup\n",
    "from selenium import webdriver\n",
    "import re\n",
    "from datetime import datetime"
   ]
  },
  {
   "cell_type": "code",
   "execution_count": 2,
   "metadata": {},
   "outputs": [],
   "source": [
    "race_list = pd.read_csv('race_list.csv')"
   ]
  },
  {
   "cell_type": "code",
   "execution_count": 3,
   "metadata": {},
   "outputs": [],
   "source": [
    "country_to_GP = {\n",
    "    'Abu Dhabi': 'Abu_Dhabi_Grand_Prix',\n",
    "    'Argentina': 'Argentine_Grand_Prix',\n",
    "    'Australia': 'Australian_Grand_Prix',\n",
    "    'Austria': 'Austrian_Grand_Prix',\n",
    "    'Azerbaijan': 'Azerbaijan_Grand_Prix',\n",
    "    'Bahrain': 'Bahrain_Grand_Prix',\n",
    "    'Belgium': 'Belgian_Grand_Prix',\n",
    "    'Brazil': 'Brazilian_Grand_Prix',\n",
    "    'Canada': 'Canadian_Grand_Prix',\n",
    "    'China': 'Chinese_Grand_Prix',\n",
    "    'Emilia Romagna': 'Imola_Grand_Prix',\n",
    "    'France': 'French_Grand_Prix',\n",
    "    'Germany': 'German_Grand_Prix',\n",
    "    'Great Britain': 'British_Grand_Prix',\n",
    "    'Hungary': 'Hungarian_Grand_Prix',\n",
    "    'India': 'Indian_Grand_Prix',\n",
    "    'Italy': 'Italian_Grand_Prix',\n",
    "    'Japan': 'Japanese_Grand_Prix',\n",
    "    'Korea': 'Korean_Grand_Prix',\n",
    "    'Malaysia': 'Malaysian_Grand_Prix',\n",
    "    'Mexico': 'Mexican_Grand_Prix',\n",
    "    'Miami': 'Miami_Grand_Prix',\n",
    "    'Monaco': 'Monaco_Grand_Prix',\n",
    "    'Morocco': 'Moroccan_Grand_Prix',\n",
    "    'Netherlands': 'Dutch_Grand_Prix',\n",
    "    'Portugal': 'Portuguese_Grand_Prix',\n",
    "    'Qatar': 'Qatar_Grand_Prix',\n",
    "    'Russia': 'Russian_Grand_Prix',\n",
    "    'San Marino': 'San_Marino_Grand_Prix',\n",
    "    'Saudi Arabia': 'Saudi_Arabian_Grand_Prix',\n",
    "    'Singapore': 'Singapore_Grand_Prix',\n",
    "    'South Africa': 'South_African_Grand_Prix',\n",
    "    'Spain': 'Spanish_Grand_Prix',\n",
    "    'Sweden': 'Swedish_Grand_Prix',\n",
    "    'Switzerland': 'Swiss_Grand_Prix',\n",
    "    'Turkey': 'Turkish_Grand_Prix',\n",
    "    'United Arab Emirates': 'Abu_Dhabi_Grand_Prix',\n",
    "    'United Kingdom': 'British_Grand_Prix',\n",
    "    'United States': 'United_States_Grand_Prix'\n",
    "}"
   ]
  },
  {
   "cell_type": "code",
   "execution_count": 4,
   "metadata": {},
   "outputs": [],
   "source": [
    "wet = ['rain', 'wet', 'showers', 'damp', 'thunderstorms', 'rainy', 'moist', 'dewy', 'drizzly', 'muggy', 'clammy', 'soggy', 'drenched']\n",
    "cloudy = ['cloudy', 'overcast', 'gray', 'gloomy', 'dull', 'hazy', 'humid', 'misty', 'foggy', 'smoky', 'nebulous', 'obscured', 'shadowy', 'cool']\n",
    "sunny = ['sunny', 'dry', 'clear', 'bright', 'radiant', 'sunlit', 'sunshine', 'shining', 'warm', 'hot', 'blazing', 'scorching']\n",
    "\n",
    "\n",
    "\n",
    "def parse_weather_info(weather_string):\n",
    "    weather_words = re.split(r'[^a-zA-Z]', weather_string)\n",
    "    for i, word in enumerate(weather_words):\n",
    "        weather_words[i] = word.lower()\n",
    "    for word in wet:\n",
    "        if word in weather_words:\n",
    "            return 'wet'\n",
    "    for word in cloudy:\n",
    "        if word in weather_words:\n",
    "            return 'cloudy'\n",
    "    for word in sunny:\n",
    "        if word in weather_words:\n",
    "            return 'sunny'\n",
    "    return 'sunny'\n",
    "        \n",
    "\n",
    "def parse_date(date_string):\n",
    "    modified_string = re.sub(r'[^a-zA-Z0-9]', ' ', date_string)\n",
    "    modified_string = re.sub(r'\\s+', ' ', modified_string)\n",
    "    date_words = modified_string.split()\n",
    "\n",
    "    if len(date_words)!=3:\n",
    "        return None\n",
    "\n",
    "    if date_words[1].isdigit() and not date_words[0].isdigit():\n",
    "        temp = date_words[0]\n",
    "        date_words[0] = date_words[1]\n",
    "        date_words[1] = temp\n",
    "    date = ' '.join(date_words[:2])+', '+date_words[2]\n",
    "    return date\n",
    "\n",
    "\n",
    "# def parse_date(date_string):\n",
    "#     try:\n",
    "#         date = datetime.strptime(date_string, '%B %d, %Y')\n",
    "#         return date.strftime('%B %d, %Y')\n",
    "#     except ValueError:\n",
    "#         return None\n",
    "    "
   ]
  },
  {
   "cell_type": "code",
   "execution_count": 5,
   "metadata": {},
   "outputs": [],
   "source": [
    "wiki_links = []\n",
    "\n",
    "for index, row in race_list.iterrows():\n",
    "    wiki_link = 'https://en.wikipedia.org/wiki/' + str(row['season']) + '_' + country_to_GP[row['circuit']]\n",
    "    wiki_links.append(wiki_link)\n",
    "\n",
    "race_list['wiki_link'] = wiki_links\n",
    "    "
   ]
  },
  {
   "cell_type": "code",
   "execution_count": 7,
   "metadata": {},
   "outputs": [
    {
     "name": "stdout",
     "output_type": "stream",
     "text": [
      "(32, 4)\n"
     ]
    }
   ],
   "source": [
    "print(race_list.shape)"
   ]
  },
  {
   "cell_type": "code",
   "execution_count": 20,
   "metadata": {},
   "outputs": [
    {
     "name": "stdout",
     "output_type": "stream",
     "text": [
      "Bahrain International Circuit Sakhir, Bahrain\n",
      "Jeddah Corniche Circuit, Jeddah, Saudi Arabia\n",
      "Albert Park Circuit, Melbourne, Australia\n",
      "Monza Circuit Monza, Italy\n",
      "Miami International Autodrome, Miami Gardens, Florida\n",
      "Circuit de Barcelona-Catalunya Montmeló, Catalonia, Spain\n",
      "Circuit de Monaco La Condamine and Monte Carlo, Monaco\n",
      "Baku City Circuit Baku, Azerbaijan\n",
      "Circuit Gilles Villeneuve Montreal, Quebec, Canada\n",
      "Silverstone Circuit Silverstone, United Kingdom\n",
      "Red Bull Ring Spielberg, Styria, Austria\n",
      "Circuit Paul Ricard Le Castellet, Provence-Alpes-Côte d'Azur, France\n",
      "Hungaroring Mogyoród, Hungary\n",
      "Circuit de Spa-Francorchamps Stavelot, Belgium\n",
      "Circuit Zandvoort Zandvoort, Netherlands\n",
      "Monza Circuit Monza, Italy\n",
      "Marina Bay Street Circuit Marina Bay, Singapore\n",
      "Suzuka International Racing Course Suzuka, Mie Prefecture, Japan\n",
      "Circuit of the Americas Austin, Texas, United States\n",
      "Autódromo Hermanos Rodríguez Mexico City, Mexico\n",
      "Autódromo José Carlos Pace São Paulo, Brazil\n",
      "Yas Marina Circuit Abu Dhabi, United Arab Emirates\n",
      "Bahrain International Circuit Sakhir, Bahrain\n",
      "Jeddah Corniche Circuit Jeddah, Saudi Arabia\n",
      "Albert Park Circuit Melbourne, Victoria, Australia\n",
      "Baku City Circuit Baku, Azerbaijan\n",
      "Miami International Autodrome, Miami Gardens, Florida\n",
      "Circuit de Monaco La Condamine and Monte Carlo, Monaco\n",
      "Circuit de Barcelona-Catalunya, Montmeló, Spain\n",
      "Circuit Gilles Villeneuve, Montréal, Quebec, Canada\n",
      "Red Bull Ring Spielberg, Styria, Austria\n",
      "Silverstone Circuit Silverstone, United Kingdom\n"
     ]
    }
   ],
   "source": [
    "weather_info = []\n",
    "dates = []\n",
    "course_lengths = []\n",
    "\n",
    "for link in wiki_links:\n",
    "    try:\n",
    "        for table_index in range(4):\n",
    "            df = pd.read_html(link)[table_index]\n",
    "            if 'Date' in df.iloc[:, 0].values:\n",
    "                print(df.iloc[6,1])\n",
    "                try:\n",
    "                    row_index_weather = df.iloc[:, 0].values.tolist().index('Weather')\n",
    "                    weather = parse_weather_info(df.iloc[row_index_weather, 1])\n",
    "                    weather_info.append(weather)\n",
    "                except:\n",
    "                    weather_info.append(None)\n",
    "                try:\n",
    "                    row_index_dates = df.iloc[:, 0].values.tolist().index('Date')\n",
    "                    date = parse_date(df.iloc[row_index_dates, 1])\n",
    "                    dates.append(date)\n",
    "                except:\n",
    "                    dates.append(None)\n",
    "                try:\n",
    "                    row_index_course_lengths = df.iloc[:, 0].values.tolist().index('Course length')\n",
    "                    course_lengths.append(df.iloc[row_index_course_lengths, 1])\n",
    "                except:\n",
    "                    course_lengths.append(None)\n",
    "                break\n",
    "    except:\n",
    "        weather_info.append(None)\n",
    "        dates.append(None)\n",
    "        course_lengths.append(None)\n",
    "\n"
   ]
  },
  {
   "cell_type": "code",
   "execution_count": 16,
   "metadata": {},
   "outputs": [],
   "source": [
    "race_list['circuit_length'] = course_lengths\n",
    "race_list['date'] = dates\n",
    "race_list['weather'] = weather_info"
   ]
  },
  {
   "cell_type": "code",
   "execution_count": 17,
   "metadata": {},
   "outputs": [
    {
     "name": "stdout",
     "output_type": "stream",
     "text": [
      "['20 March, 2022', '27 March, 2022', '10 April, 2022', '11 September, 2022', '8 May, 2022', '22 May, 2022', '29 May, 2022', '12 June, 2022', '19 June, 2022', '3 July, 2022', '10 July, 2022', '24 July, 2022', '31 July, 2022', '28 August, 2022', '4 September, 2022', '11 September, 2022', '2 October, 2022', '9 October, 2022', '23 October, 2022', '30 October, 2022', '13 November, 2022', '20 November, 2022', '5 March, 2023', '19 March, 2023', '2 April, 2023', '30 April, 2023', '7 May, 2023', '28 May, 2023', '4 June, 2023', '18 June, 2023', '2 July, 2023', '9 July, 2023']\n"
     ]
    }
   ],
   "source": [
    "print(dates)"
   ]
  },
  {
   "cell_type": "code",
   "execution_count": 18,
   "metadata": {},
   "outputs": [],
   "source": [
    "race_list.to_csv('/Users/anirudhkrishna/GitHub/FormulaData/final_race_list.csv', index=False)"
   ]
  }
 ],
 "metadata": {
  "kernelspec": {
   "display_name": "formulakernel",
   "language": "python",
   "name": "formulakernel"
  },
  "language_info": {
   "codemirror_mode": {
    "name": "ipython",
    "version": 3
   },
   "file_extension": ".py",
   "mimetype": "text/x-python",
   "name": "python",
   "nbconvert_exporter": "python",
   "pygments_lexer": "ipython3",
   "version": "3.10.5"
  },
  "orig_nbformat": 4
 },
 "nbformat": 4,
 "nbformat_minor": 2
}
