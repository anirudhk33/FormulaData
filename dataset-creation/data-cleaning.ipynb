{
 "cells": [
  {
   "cell_type": "code",
   "execution_count": 147,
   "metadata": {},
   "outputs": [],
   "source": [
    "import pandas as pd\n",
    "import numpy as np\n",
    "\n",
    "create_data_here = '/Users/anirudhkrishna/GitHub/FormulaData/csv-data/'"
   ]
  },
  {
   "cell_type": "code",
   "execution_count": 148,
   "metadata": {},
   "outputs": [],
   "source": [
    "full_race_data = pd.read_csv(create_data_here+'full_race_data.csv')\n",
    "# qualifying_results.to_csv('/Users/anirudhkrishna/GitHub/FormulaData/qualifying_results.csv', index=False)"
   ]
  },
  {
   "cell_type": "code",
   "execution_count": 149,
   "metadata": {},
   "outputs": [],
   "source": [
    "full_race_data = full_race_data.sort_values(by=['season', 'round'])\n",
    "# print(sorted_race_data.head())\n",
    "# sorted_race_data.to_csv('/Users/anirudhkrishna/GitHub/FormulaData/sorted_race_data.csv', index=False)"
   ]
  },
  {
   "cell_type": "code",
   "execution_count": 150,
   "metadata": {},
   "outputs": [],
   "source": [
    "def convert_to_int(x):\n",
    "    try:\n",
    "        return x.astype(int)\n",
    "    except:\n",
    "        return x"
   ]
  },
  {
   "cell_type": "code",
   "execution_count": 151,
   "metadata": {},
   "outputs": [],
   "source": [
    "# x = full_race_data['race_laps'].apply(convert_to_int)\n",
    "# print(x)\n",
    "# full_race_data['race_laps'].equals(x)"
   ]
  },
  {
   "cell_type": "code",
   "execution_count": 152,
   "metadata": {},
   "outputs": [
    {
     "name": "stdout",
     "output_type": "stream",
     "text": [
      "25675\n",
      "24402\n"
     ]
    }
   ],
   "source": [
    "print(len(full_race_data))\n",
    "full_race_data.dropna(subset=['car_number'], inplace=True)\n",
    "print(len(full_race_data))"
   ]
  },
  {
   "cell_type": "code",
   "execution_count": 153,
   "metadata": {},
   "outputs": [],
   "source": [
    "full_race_data['car_number'] = full_race_data['car_number'].astype(int)"
   ]
  },
  {
   "cell_type": "code",
   "execution_count": 154,
   "metadata": {},
   "outputs": [],
   "source": [
    "full_race_data['race_laps'].fillna(0, inplace=True)\n",
    "full_race_data['points'].fillna(0, inplace=True)\n",
    "full_race_data['race_laps'] = full_race_data['race_laps'].astype(int)\n",
    "full_race_data['points'] = full_race_data['points'].astype(int)"
   ]
  },
  {
   "cell_type": "code",
   "execution_count": 155,
   "metadata": {},
   "outputs": [],
   "source": [
    "# full_race_data['fp1_pos'].fillna(999, inplace=True)\n",
    "# full_race_data['fp1_pos'] = full_race_data['fp1_pos'].astype(int)\n",
    "# full_race_data['fp1_pos'].replace(999, np.nan, inplace=True)\n",
    "\n",
    "# full_race_data['fp2_pos'].fillna(999, inplace=True)\n",
    "# full_race_data['fp2_pos'] = full_race_data['fp2_pos'].astype(int)\n",
    "# full_race_data['fp2_pos'].replace(999, np.nan, inplace=True)\n",
    "\n",
    "# full_race_data['fp3_pos'].fillna(999, inplace=True)\n",
    "# full_race_data['fp3_pos'] = full_race_data['fp3_pos'].astype(int)\n",
    "# full_race_data['fp3_pos'].replace(999, np.nan, inplace=True)"
   ]
  },
  {
   "cell_type": "code",
   "execution_count": 156,
   "metadata": {},
   "outputs": [
    {
     "name": "stdout",
     "output_type": "stream",
     "text": [
      "finishing_position     object\n",
      "car_number              int64\n",
      "driver_name            object\n",
      "constructor            object\n",
      "race_laps               int64\n",
      "race_time              object\n",
      "points                  int64\n",
      "season                  int64\n",
      "round                   int64\n",
      "location               object\n",
      "grid_position          object\n",
      "qualifying_time        object\n",
      "fp1_pos               float64\n",
      "fp2_pos               float64\n",
      "fp3_pos               float64\n",
      "fastest_lap_pos       float64\n",
      "fastest_lap_number    float64\n",
      "lap_time               object\n",
      "wiki_link              object\n",
      "circuit_length         object\n",
      "date                   object\n",
      "weather                object\n",
      "circuit_full_name      object\n",
      "latitude              float64\n",
      "longitude             float64\n",
      "dtype: object\n"
     ]
    }
   ],
   "source": [
    "print(full_race_data.dtypes)"
   ]
  },
  {
   "cell_type": "code",
   "execution_count": 157,
   "metadata": {},
   "outputs": [],
   "source": [
    "def has_fastest_lap(x):\n",
    "    if x == 1.0:\n",
    "        return 1\n",
    "    else:\n",
    "        return 0"
   ]
  },
  {
   "cell_type": "code",
   "execution_count": 158,
   "metadata": {},
   "outputs": [],
   "source": [
    "def net_positions_gained(df):\n",
    "    try:\n",
    "        return int(df['grid_position']) - int(df['finishing_position'])\n",
    "    except:\n",
    "        try:\n",
    "            if df['grid_position'] == \"NC\":\n",
    "                return 20-int(df['finishing_position']) \n",
    "            if df['finishing_position'] == \"NC\":\n",
    "                return int(df['grid_position']) - 20\n",
    "            return None\n",
    "        except:\n",
    "            return None\n"
   ]
  },
  {
   "cell_type": "code",
   "execution_count": 159,
   "metadata": {},
   "outputs": [],
   "source": [
    "def sprint_race_adjustments(driver_name, season, round, points_to_add, practices_to_remove, df):\n",
    "    condition = (df['driver_name'] == driver_name & df['season']==season & df['round'] == round)\n",
    "    df.loc[condition, 'points'] += points_to_add\n",
    "    for i in range(3,3-practices_to_remove,-1):\n",
    "        df.loc[condition, f'fp{i}_pos'] = None\n",
    "    return df"
   ]
  },
  {
   "cell_type": "code",
   "execution_count": 160,
   "metadata": {},
   "outputs": [],
   "source": [
    "full_race_data['net_positions_gained'] = full_race_data.apply(net_positions_gained, axis=1)"
   ]
  },
  {
   "cell_type": "code",
   "execution_count": 161,
   "metadata": {},
   "outputs": [],
   "source": [
    "full_race_data['has_fastest_lap'] = full_race_data['fastest_lap_pos'].apply(has_fastest_lap)"
   ]
  },
  {
   "cell_type": "code",
   "execution_count": 162,
   "metadata": {},
   "outputs": [
    {
     "name": "stdout",
     "output_type": "stream",
     "text": [
      "finishing_position                                                      2\n",
      "car_number                                                              1\n",
      "driver_name                                                 Mike Hawthorn\n",
      "constructor                                                       Ferrari\n",
      "race_laps                                                              22\n",
      "race_time                                                        +96.500s\n",
      "points                                                                  3\n",
      "season                                                               1954\n",
      "round                                                                   6\n",
      "location                                                          Germany\n",
      "grid_position                                                          NC\n",
      "qualifying_time                                                       NaN\n",
      "fp1_pos                                                               NaN\n",
      "fp2_pos                                                               NaN\n",
      "fp3_pos                                                               NaN\n",
      "fastest_lap_pos                                                       NaN\n",
      "fastest_lap_number                                                    NaN\n",
      "lap_time                                                              NaN\n",
      "wiki_link               https://en.wikipedia.org/wiki/1954_German_Gran...\n",
      "circuit_length                                   22.810 km (14.173 miles)\n",
      "date                                                       1 August, 1954\n",
      "weather                                                               dry\n",
      "circuit_full_name                      Nürburgring, Nürburg, West Germany\n",
      "latitude                                                        51.165691\n",
      "longitude                                                       10.451526\n",
      "net_positions_gained                                                 18.0\n",
      "has_fastest_lap                                                         0\n",
      "Name: 8324, dtype: object\n"
     ]
    }
   ],
   "source": [
    "print(full_race_data.iloc[1001])"
   ]
  },
  {
   "cell_type": "code",
   "execution_count": 163,
   "metadata": {},
   "outputs": [],
   "source": [
    "# print(full_race_data['accumulated_points'])"
   ]
  },
  {
   "cell_type": "code",
   "execution_count": 164,
   "metadata": {},
   "outputs": [],
   "source": [
    "full_race_data.rename(columns = {'finishing_position':'race_finishing_position', 'constructor':'constructor_name', 'race_laps':'race_laps_completed', 'fp1_pos':'fp1_position', 'fp2_pos':'fp2_position', 'fp3_pos':'fp3_position', 'fastest_lap_pos':'fastest_lap_position', 'lap_time':'fastest_lap_time', 'wiki_link':'wikipedia_link', }, inplace = True)"
   ]
  },
  {
   "cell_type": "code",
   "execution_count": 165,
   "metadata": {},
   "outputs": [
    {
     "name": "stdout",
     "output_type": "stream",
     "text": [
      "['race_finishing_position', 'car_number', 'driver_name', 'constructor_name', 'race_laps_completed', 'race_time', 'points', 'season', 'round', 'location', 'grid_position', 'qualifying_time', 'fp1_position', 'fp2_position', 'fp3_position', 'fastest_lap_position', 'fastest_lap_number', 'fastest_lap_time', 'wikipedia_link', 'circuit_length', 'date', 'weather', 'circuit_full_name', 'latitude', 'longitude', 'net_positions_gained', 'has_fastest_lap']\n"
     ]
    }
   ],
   "source": [
    "current_order = full_race_data.columns.tolist()\n",
    "print(current_order)"
   ]
  },
  {
   "cell_type": "code",
   "execution_count": 169,
   "metadata": {},
   "outputs": [],
   "source": [
    "desired_order = ['season', 'round', 'location', 'weather', 'date','race_finishing_position', 'driver_name', 'constructor_name', 'car_number','net_positions_gained', 'has_fastest_lap', 'race_laps_completed', 'race_time', 'points', 'qualifying_time','grid_position', 'fp1_position', 'fp2_position', 'fp3_position', 'fastest_lap_position', 'fastest_lap_number', 'fastest_lap_time', 'circuit_full_name', 'circuit_length', 'latitude', 'longitude','wikipedia_link']\n",
    "full_race_data = full_race_data.reindex(columns=desired_order)"
   ]
  },
  {
   "cell_type": "code",
   "execution_count": 170,
   "metadata": {},
   "outputs": [],
   "source": [
    "full_race_data.to_csv(create_data_here + 'cleaned_race_data.csv', index=False)"
   ]
  },
  {
   "cell_type": "code",
   "execution_count": null,
   "metadata": {},
   "outputs": [],
   "source": []
  }
 ],
 "metadata": {
  "kernelspec": {
   "display_name": "formulakernel",
   "language": "python",
   "name": "formulakernel"
  },
  "language_info": {
   "codemirror_mode": {
    "name": "ipython",
    "version": 3
   },
   "file_extension": ".py",
   "mimetype": "text/x-python",
   "name": "python",
   "nbconvert_exporter": "python",
   "pygments_lexer": "ipython3",
   "version": "3.10.5"
  },
  "orig_nbformat": 4
 },
 "nbformat": 4,
 "nbformat_minor": 2
}
