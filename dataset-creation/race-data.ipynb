{
 "cells": [
  {
   "attachments": {},
   "cell_type": "markdown",
   "metadata": {},
   "source": [
    "# Scraping Race Data from https://www.formula1.com/"
   ]
  },
  {
   "cell_type": "code",
   "execution_count": 41,
   "metadata": {},
   "outputs": [],
   "source": [
    "import pandas as pd\n",
    "import numpy as np\n",
    "import requests\n",
    "from bs4 import BeautifulSoup\n",
    "from selenium import webdriver\n",
    "\n",
    "create_data_here = '/Users/anirudhkrishna/GitHub/FormulaData/csv-data/'"
   ]
  },
  {
   "cell_type": "code",
   "execution_count": 42,
   "metadata": {},
   "outputs": [],
   "source": [
    "def parse_location_name(link):\n",
    "    country = link.split('/')[6]\n",
    "    country_list = country.split('-')\n",
    "    for i, word in enumerate(country_list):\n",
    "        country_list[i] = word[0].upper() + word[1:]\n",
    "    country = ' '.join(country_list)\n",
    "    return country\n",
    "\n",
    "def parse_driver_name(row):\n",
    "    words = row.split()\n",
    "    parsed_string = ' '.join(words[:-1])\n",
    "    return parsed_string\n",
    "\n",
    "def parse_car_name(row):\n",
    "    try:\n",
    "        words = row.split()\n",
    "    except:\n",
    "        return row\n",
    "    parsed_string = ' '.join(words)\n",
    "    return parsed_string"
   ]
  },
  {
   "cell_type": "code",
   "execution_count": 43,
   "metadata": {},
   "outputs": [
    {
     "name": "stdout",
     "output_type": "stream",
     "text": [
      "(24235, 10)\n"
     ]
    }
   ],
   "source": [
    "race_results = pd.DataFrame()\n",
    "race_list = pd.DataFrame(columns=['season', 'round', 'location'])\n",
    "\n",
    "for year in range(1950, 2024):\n",
    "    races_url = f'https://www.formula1.com/en/results.html/{year}/races.html'\n",
    "    response = requests.get(races_url)\n",
    "    soup = BeautifulSoup(response.text, 'html.parser')\n",
    "\n",
    "    race_links = []\n",
    "    race_locations = []\n",
    "    filter_links = soup.find_all('a', attrs={'class': 'resultsarchive-filter-item-link FilterTrigger'})\n",
    "    for link in filter_links:\n",
    "        href = link.get('href')\n",
    "        text = link.text\n",
    "        if f'/en/results.html/{year}/races/' in href:\n",
    "            race_links.append(href)\n",
    "            race_locations.append(text)\n",
    "\n",
    "    year_df = pd.DataFrame()\n",
    "\n",
    "    round_num = 1\n",
    "    for i,race_link in enumerate(race_links):\n",
    "        location = race_locations[i].strip()\n",
    "        if location == '':\n",
    "            location = parse_location_name(race_link)\n",
    "        try:\n",
    "            df = pd.read_html(f'https://www.formula1.com{race_link}')[0]\n",
    "        except:\n",
    "            continue\n",
    "\n",
    "        df['season'] = year\n",
    "        df['round'] = round_num\n",
    "        df['location'] = location\n",
    "\n",
    "        df = df.loc[:, ~df.columns.str.contains('Unnamed')]\n",
    "        \n",
    "        year_df = pd.concat([year_df, df], ignore_index=True)   \n",
    "        race_list.loc[len(race_list)] = [year, round_num, location]\n",
    "\n",
    "        round_num += 1\n",
    "\n",
    "    race_results = pd.concat([race_results, year_df], ignore_index=True)\n",
    "\n",
    "print(race_results.shape)"
   ]
  },
  {
   "cell_type": "code",
   "execution_count": 44,
   "metadata": {},
   "outputs": [
    {
     "name": "stdout",
     "output_type": "stream",
     "text": [
      "      season  round          location\n",
      "0       1950      1     Great Britain\n",
      "1       1950      2            Monaco\n",
      "2       1950      3  Indianapolis 500\n",
      "3       1950      4       Switzerland\n",
      "4       1950      5           Belgium\n",
      "...      ...    ...               ...\n",
      "1084    2023      6            Monaco\n",
      "1085    2023      7             Spain\n",
      "1086    2023      8            Canada\n",
      "1087    2023      9           Austria\n",
      "1088    2023     10     Great Britain\n",
      "\n",
      "[1089 rows x 3 columns]\n"
     ]
    }
   ],
   "source": [
    "print(race_list)"
   ]
  },
  {
   "cell_type": "code",
   "execution_count": 45,
   "metadata": {},
   "outputs": [
    {
     "name": "stdout",
     "output_type": "stream",
     "text": [
      "      Pos  No                       Driver                    Car  Laps  \\\n",
      "0       1   2            Nino  Farina  FAR             Alfa Romeo  70.0   \n",
      "1       2   3          Luigi  Fagioli  FAG             Alfa Romeo  70.0   \n",
      "2       3   4             Reg Parnell  PAR             Alfa Romeo  70.0   \n",
      "3       4  14  Yves  Giraud-Cabantous  GIR            Talbot-Lago  68.0   \n",
      "4       5  15            Louis Rosier  ROS            Talbot-Lago  68.0   \n",
      "...    ..  ..                          ...                    ...   ...   \n",
      "24230  16  22           Yuki  Tsunoda  TSU  AlphaTauri Honda RBPT  52.0   \n",
      "24231  17  21          Nyck  De Vries  DEV  AlphaTauri Honda RBPT  52.0   \n",
      "24232  18  10           Pierre  Gasly  GAS         Alpine Renault  46.0   \n",
      "24233  NC  20        Kevin  Magnussen  MAG           Haas Ferrari  31.0   \n",
      "24234  NC  31           Esteban  Ocon  OCO         Alpine Renault   9.0   \n",
      "\n",
      "      Time/Retired  PTS  season  round       location  \n",
      "0      2:13:23.600  9.0    1950      1  Great Britain  \n",
      "1          +2.600s  6.0    1950      1  Great Britain  \n",
      "2         +52.000s  4.0    1950      1  Great Britain  \n",
      "3          +2 laps  3.0    1950      1  Great Britain  \n",
      "4          +2 laps  2.0    1950      1  Great Britain  \n",
      "...            ...  ...     ...    ...            ...  \n",
      "24230     +31.225s  0.0    2023     10  Great Britain  \n",
      "24231     +33.128s  0.0    2023     10  Great Britain  \n",
      "24232          DNF  0.0    2023     10  Great Britain  \n",
      "24233          DNF  0.0    2023     10  Great Britain  \n",
      "24234          DNF  0.0    2023     10  Great Britain  \n",
      "\n",
      "[24235 rows x 10 columns]\n"
     ]
    }
   ],
   "source": [
    "print(race_results)"
   ]
  },
  {
   "cell_type": "code",
   "execution_count": 46,
   "metadata": {},
   "outputs": [],
   "source": [
    "race_results[\"Driver\"] = race_results[\"Driver\"].apply(parse_driver_name)\n",
    "race_results[\"Car\"] = race_results[\"Car\"].apply(parse_car_name)\n",
    "race_results.rename(columns = {'Pos': 'finishing_position', 'No': 'car_number', 'Driver': 'driver_name', 'Car': 'constructor',\n",
    "                                     'Laps': 'race_laps', 'Time/Retired': 'race_time', 'PTS': 'points'}, inplace = True)"
   ]
  },
  {
   "cell_type": "code",
   "execution_count": 47,
   "metadata": {},
   "outputs": [
    {
     "name": "stdout",
     "output_type": "stream",
     "text": [
      "      finishing_position  car_number            driver_name  \\\n",
      "0                      1           2            Nino Farina   \n",
      "1                      2           3          Luigi Fagioli   \n",
      "2                      3           4            Reg Parnell   \n",
      "3                      4          14  Yves Giraud-Cabantous   \n",
      "4                      5          15           Louis Rosier   \n",
      "...                  ...         ...                    ...   \n",
      "24230                 16          22           Yuki Tsunoda   \n",
      "24231                 17          21          Nyck De Vries   \n",
      "24232                 18          10           Pierre Gasly   \n",
      "24233                 NC          20        Kevin Magnussen   \n",
      "24234                 NC          31           Esteban Ocon   \n",
      "\n",
      "                 constructor  race_laps    race_time  points  season  round  \\\n",
      "0                 Alfa Romeo       70.0  2:13:23.600     9.0    1950      1   \n",
      "1                 Alfa Romeo       70.0      +2.600s     6.0    1950      1   \n",
      "2                 Alfa Romeo       70.0     +52.000s     4.0    1950      1   \n",
      "3                Talbot-Lago       68.0      +2 laps     3.0    1950      1   \n",
      "4                Talbot-Lago       68.0      +2 laps     2.0    1950      1   \n",
      "...                      ...        ...          ...     ...     ...    ...   \n",
      "24230  AlphaTauri Honda RBPT       52.0     +31.225s     0.0    2023     10   \n",
      "24231  AlphaTauri Honda RBPT       52.0     +33.128s     0.0    2023     10   \n",
      "24232         Alpine Renault       46.0          DNF     0.0    2023     10   \n",
      "24233           Haas Ferrari       31.0          DNF     0.0    2023     10   \n",
      "24234         Alpine Renault        9.0          DNF     0.0    2023     10   \n",
      "\n",
      "            location  \n",
      "0      Great Britain  \n",
      "1      Great Britain  \n",
      "2      Great Britain  \n",
      "3      Great Britain  \n",
      "4      Great Britain  \n",
      "...              ...  \n",
      "24230  Great Britain  \n",
      "24231  Great Britain  \n",
      "24232  Great Britain  \n",
      "24233  Great Britain  \n",
      "24234  Great Britain  \n",
      "\n",
      "[24235 rows x 10 columns]\n"
     ]
    }
   ],
   "source": [
    "print(race_results)"
   ]
  },
  {
   "cell_type": "code",
   "execution_count": 48,
   "metadata": {},
   "outputs": [],
   "source": [
    "race_list.to_csv(create_data_here + 'race_list.csv', index=False)"
   ]
  },
  {
   "cell_type": "code",
   "execution_count": 49,
   "metadata": {},
   "outputs": [],
   "source": [
    "race_results.to_csv(create_data_here +'race_results.csv', index=False)"
   ]
  }
 ],
 "metadata": {
  "kernelspec": {
   "display_name": "formulakernel",
   "language": "python",
   "name": "formulakernel"
  },
  "language_info": {
   "codemirror_mode": {
    "name": "ipython",
    "version": 3
   },
   "file_extension": ".py",
   "mimetype": "text/x-python",
   "name": "python",
   "nbconvert_exporter": "python",
   "pygments_lexer": "ipython3",
   "version": "3.10.5"
  },
  "orig_nbformat": 4
 },
 "nbformat": 4,
 "nbformat_minor": 2
}
