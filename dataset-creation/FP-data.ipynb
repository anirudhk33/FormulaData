{
 "cells": [
  {
   "cell_type": "code",
   "execution_count": 45,
   "metadata": {},
   "outputs": [],
   "source": [
    "import pandas as pd\n",
    "import numpy as np\n",
    "import requests\n",
    "from bs4 import BeautifulSoup\n",
    "from selenium import webdriver\n",
    "\n",
    "create_data_here = '/Users/anirudhkrishna/GitHub/FormulaData/csv-data/'"
   ]
  },
  {
   "cell_type": "code",
   "execution_count": 46,
   "metadata": {},
   "outputs": [],
   "source": [
    "def parse_driver_name(row):\n",
    "    words = row.split()\n",
    "    parsed_string = ' '.join(words[:-1])\n",
    "    return parsed_string"
   ]
  },
  {
   "cell_type": "code",
   "execution_count": 47,
   "metadata": {},
   "outputs": [],
   "source": [
    "def FP_scrape_results(start,end,num):\n",
    "    num = str(num)\n",
    "    FP_results = pd.DataFrame()\n",
    "    for year in range(start, end):\n",
    "        races_url = f'https://www.formula1.com/en/results.html/{year}/races.html'\n",
    "        response = requests.get(races_url)\n",
    "        soup = BeautifulSoup(response.text, 'html.parser')\n",
    "\n",
    "        race_links = []\n",
    "        filter_links = soup.find_all('a', attrs={'class': 'resultsarchive-filter-item-link FilterTrigger'})\n",
    "        for link in filter_links:\n",
    "            href = link.get('href')\n",
    "            if f'/en/results.html/{year}/races/' in href:\n",
    "                race_links.append(href)\n",
    "\n",
    "        year_df = pd.DataFrame()\n",
    "\n",
    "        round_num = 1\n",
    "        for race_link in race_links:\n",
    "            FP_link = race_link.replace('race-result.html', f'practice-{num}.html')\n",
    "            try:\n",
    "                df = pd.read_html(f'https://www.formula1.com{FP_link}')[0]\n",
    "                df = df[['Pos','Driver']]\n",
    "            except:\n",
    "                try: \n",
    "                    ignore = pd.read_html(f'https://www.formula1.com{race_link}')[0]\n",
    "                    round_num+=1\n",
    "                    continue\n",
    "                except:\n",
    "                    continue\n",
    "            df['season'] = year\n",
    "            df['round'] = round_num\n",
    "            df = df.loc[:, ~df.columns.str.contains('Unnamed')]\n",
    "            year_df = pd.concat([year_df, df], ignore_index=True)\n",
    "            round_num += 1\n",
    "\n",
    "        FP_results = pd.concat([FP_results, year_df], ignore_index=True)\n",
    "    FP_results.rename(columns={'Pos': f'fp{num}_pos'}, inplace=True)\n",
    "    return FP_results\n",
    "\n",
    "# print(FP1_results.shape)\n"
   ]
  },
  {
   "cell_type": "code",
   "execution_count": 48,
   "metadata": {},
   "outputs": [],
   "source": [
    "FP1_results = FP_scrape_results(1984,2024,1)\n",
    "FP2_results = FP_scrape_results(1988,2024,2)\n",
    "FP3_results = FP_scrape_results(2003,2024,3)"
   ]
  },
  {
   "cell_type": "code",
   "execution_count": 49,
   "metadata": {},
   "outputs": [],
   "source": [
    "FP1_results[\"Driver\"] = FP1_results[\"Driver\"].apply(parse_driver_name)\n",
    "FP2_results[\"Driver\"] = FP2_results[\"Driver\"].apply(parse_driver_name)\n",
    "FP3_results[\"Driver\"] = FP3_results[\"Driver\"].apply(parse_driver_name)"
   ]
  },
  {
   "cell_type": "code",
   "execution_count": 50,
   "metadata": {},
   "outputs": [
    {
     "name": "stdout",
     "output_type": "stream",
     "text": [
      "   fp1_pos            Driver  season  round\n",
      "0        1        Niki Lauda    1984      1\n",
      "1        2       Alain Prost    1984      1\n",
      "2        3   Elio de Angelis    1984      1\n",
      "3        4  Michele Alboreto    1984      1\n",
      "4        5     Nelson Piquet    1984      1\n",
      "  fp2_pos            Driver  season  round\n",
      "0       1      Ayrton Senna    1988      1\n",
      "1       2    Gerhard Berger    1988      1\n",
      "2       3   Thierry Boutsen    1988      1\n",
      "3       4     Nigel Mansell    1988      1\n",
      "4       5  Michele Alboreto    1988      1\n",
      "   fp3_pos              Driver  season  round\n",
      "0        1        Jarno Trulli    2003      1\n",
      "1        2       Jenson Button    2003      1\n",
      "2        3     Fernando Alonso    2003      1\n",
      "3        4  Michael Schumacher    2003      1\n",
      "4        5  Rubens Barrichello    2003      1\n"
     ]
    }
   ],
   "source": [
    "print(FP1_results.head())\n",
    "print(FP2_results.head())\n",
    "print(FP3_results.head())"
   ]
  },
  {
   "cell_type": "code",
   "execution_count": 51,
   "metadata": {},
   "outputs": [],
   "source": [
    "# FP1_data.to_csv('/Users/anirudhkrishna/GitHub/FormulaData/FP1_data.csv', index=False)"
   ]
  },
  {
   "cell_type": "code",
   "execution_count": 52,
   "metadata": {},
   "outputs": [],
   "source": [
    "free_practice_results = FP1_results.merge(FP2_results, on=['Driver', 'season', 'round'], how='outer').merge(FP3_results, on=['Driver', 'season', 'round'], how='outer')\n"
   ]
  },
  {
   "cell_type": "code",
   "execution_count": 53,
   "metadata": {},
   "outputs": [],
   "source": [
    "free_practice_results.rename(columns={'Driver':'driver_name'}, inplace=True)\n"
   ]
  },
  {
   "cell_type": "code",
   "execution_count": 54,
   "metadata": {},
   "outputs": [
    {
     "name": "stdout",
     "output_type": "stream",
     "text": [
      "       fp1_pos         driver_name  season  round fp2_pos  fp3_pos\n",
      "0          1.0          Niki Lauda    1984      1     NaN      NaN\n",
      "1          2.0         Alain Prost    1984      1     NaN      NaN\n",
      "2          3.0     Elio de Angelis    1984      1     NaN      NaN\n",
      "3          4.0    Michele Alboreto    1984      1     NaN      NaN\n",
      "4          5.0       Nelson Piquet    1984      1     NaN      NaN\n",
      "...        ...                 ...     ...    ...     ...      ...\n",
      "16639      NaN  Narain Karthikeyan    2012     12     NaN     23.0\n",
      "16640      NaN        Sergio Perez    2014     18     NaN     18.0\n",
      "16641      NaN     Romain Grosjean    2015     15     NaN     13.0\n",
      "16642      NaN  Antonio Giovinazzi    2017      1     NaN     20.0\n",
      "16643      NaN       Robert Kubica    2021     13     NaN     19.0\n",
      "\n",
      "[16644 rows x 6 columns]\n"
     ]
    }
   ],
   "source": [
    "print(free_practice_results)"
   ]
  },
  {
   "cell_type": "code",
   "execution_count": 55,
   "metadata": {},
   "outputs": [],
   "source": [
    "free_practice_results.to_csv(create_data_here + 'free_practice_results.csv', index=False)"
   ]
  }
 ],
 "metadata": {
  "kernelspec": {
   "display_name": "formulakernel",
   "language": "python",
   "name": "formulakernel"
  },
  "language_info": {
   "codemirror_mode": {
    "name": "ipython",
    "version": 3
   },
   "file_extension": ".py",
   "mimetype": "text/x-python",
   "name": "python",
   "nbconvert_exporter": "python",
   "pygments_lexer": "ipython3",
   "version": "3.10.5"
  },
  "orig_nbformat": 4
 },
 "nbformat": 4,
 "nbformat_minor": 2
}
