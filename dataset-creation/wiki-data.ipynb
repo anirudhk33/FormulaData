{
 "cells": [
  {
   "attachments": {},
   "cell_type": "markdown",
   "metadata": {},
   "source": [
    "# Scraping Data from https://en.wikipedia.org/wiki"
   ]
  },
  {
   "cell_type": "code",
   "execution_count": 54,
   "metadata": {},
   "outputs": [],
   "source": [
    "import pandas as pd\n",
    "import numpy as np\n",
    "from bs4 import BeautifulSoup\n",
    "from selenium import webdriver\n",
    "import re\n",
    "from datetime import datetime\n",
    "\n",
    "create_data_here = '/Users/anirudhkrishna/GitHub/FormulaData/csv-data/'"
   ]
  },
  {
   "cell_type": "code",
   "execution_count": 55,
   "metadata": {},
   "outputs": [],
   "source": [
    "race_list = pd.read_csv(create_data_here +'race_list.csv')"
   ]
  },
  {
   "cell_type": "code",
   "execution_count": 56,
   "metadata": {},
   "outputs": [],
   "source": [
    "country_to_GP = {\n",
    "    'Abu Dhabi': 'Abu_Dhabi_Grand_Prix',\n",
    "    'Argentina': 'Argentine_Grand_Prix',\n",
    "    'Australia': 'Australian_Grand_Prix',\n",
    "    'Austria': 'Austrian_Grand_Prix',\n",
    "    'Azerbaijan': 'Azerbaijan_Grand_Prix',\n",
    "    'Bahrain': 'Bahrain_Grand_Prix',\n",
    "    'Belgium': 'Belgian_Grand_Prix',\n",
    "    'Brazil': 'Brazilian_Grand_Prix',\n",
    "    'Canada': 'Canadian_Grand_Prix',\n",
    "    'China': 'Chinese_Grand_Prix',\n",
    "    'Emilia Romagna': 'Emilia_Romagna_Grand_Prix',\n",
    "    'France': 'French_Grand_Prix',\n",
    "    'Germany': 'German_Grand_Prix',\n",
    "    'Great Britain': 'British_Grand_Prix',\n",
    "    'Hungary': 'Hungarian_Grand_Prix',\n",
    "    'Imola': 'Emilia_Romagna_Grand_Prix',\n",
    "    'India': 'Indian_Grand_Prix',\n",
    "    'Indianapolis 500' : 'Indianapolis_500',\n",
    "    'Italy': 'Italian_Grand_Prix',\n",
    "    'Japan': 'Japanese_Grand_Prix',\n",
    "    'Korea': 'Korean_Grand_Prix',\n",
    "    'Malaysia': 'Malaysian_Grand_Prix',\n",
    "    'Mexico': 'Mexican_Grand_Prix',\n",
    "    'Miami': 'Miami_Grand_Prix',\n",
    "    'Monaco': 'Monaco_Grand_Prix',\n",
    "    'Morocco': 'Moroccan_Grand_Prix',\n",
    "    'Netherlands': 'Dutch_Grand_Prix',\n",
    "    'Portugal': 'Portuguese_Grand_Prix',\n",
    "    'Qatar': 'Qatar_Grand_Prix',\n",
    "    'Russia': 'Russian_Grand_Prix',\n",
    "    'San Marino': 'San_Marino_Grand_Prix',\n",
    "    'Saudi Arabia': 'Saudi_Arabian_Grand_Prix',\n",
    "    'Singapore': 'Singapore_Grand_Prix',\n",
    "    'South Africa': 'South_African_Grand_Prix',\n",
    "    'Styria': 'Styrian_Grand_Prix',\n",
    "    'Spain': 'Spanish_Grand_Prix',\n",
    "    'Sweden': 'Swedish_Grand_Prix',\n",
    "    'Switzerland': 'Swiss_Grand_Prix',\n",
    "    'Turkey': 'Turkish_Grand_Prix',\n",
    "    'United Arab Emirates': 'Abu_Dhabi_Grand_Prix',\n",
    "    'United Kingdom': 'British_Grand_Prix',\n",
    "    'United States': 'United_States_Grand_Prix',\n",
    "    '70th Anniversary': 'British_Grand_Prix'\n",
    "}"
   ]
  },
  {
   "cell_type": "code",
   "execution_count": 57,
   "metadata": {},
   "outputs": [],
   "source": [
    "wet = ['rain', 'wet', 'showers', 'damp', 'thunderstorms', 'rainy', 'moist', 'dewy', 'drizzly', 'muggy', 'clammy', 'soggy', 'drenched']\n",
    "cloudy = ['cloudy', 'overcast', 'gray', 'gloomy', 'dull', 'hazy', 'humid', 'misty', 'foggy', 'smoky', 'nebulous', 'obscured', 'shadowy', 'cool']\n",
    "dry = ['sunny', 'dry', 'clear', 'bright', 'radiant', 'sunlit', 'sunshine', 'shining', 'warm', 'hot', 'blazing', 'scorching']\n",
    "\n",
    "\n",
    "\n",
    "def parse_weather_info(weather_string):\n",
    "    weather_words = re.split(r'[^a-zA-Z]', weather_string)\n",
    "    for i, word in enumerate(weather_words):\n",
    "        weather_words[i] = word.lower()\n",
    "    for word in wet:\n",
    "        if word in weather_words:\n",
    "            return 'wet'\n",
    "    for word in cloudy:\n",
    "        if word in weather_words:\n",
    "            return 'cloudy'\n",
    "    for word in dry:\n",
    "        if word in weather_words:\n",
    "            return 'dry'\n",
    "    return 'dry'\n",
    "        \n",
    "\n",
    "def parse_date(date_string):\n",
    "    modified_string = re.sub(r'[^a-zA-Z0-9]', ' ', date_string)\n",
    "    modified_string = re.sub(r'\\s+', ' ', modified_string)\n",
    "    date_words = modified_string.split()\n",
    "\n",
    "    if len(date_words)!=3:\n",
    "        return None\n",
    "\n",
    "    if date_words[1].isdigit() and not date_words[0].isdigit():\n",
    "        temp = date_words[0]\n",
    "        date_words[0] = date_words[1]\n",
    "        date_words[1] = temp\n",
    "    date = ' '.join(date_words[:2])+', '+date_words[2]\n",
    "    return date\n",
    "\n",
    "\n",
    "# def parse_date(date_string):\n",
    "#     try:\n",
    "#         date = datetime.strptime(date_string, '%B %d, %Y')\n",
    "#         return date.strftime('%B %d, %Y')\n",
    "#     except ValueError:\n",
    "#         return None\n",
    "    "
   ]
  },
  {
   "cell_type": "code",
   "execution_count": 58,
   "metadata": {},
   "outputs": [],
   "source": [
    "wiki_links = []\n",
    "\n",
    "for index, row in race_list.iterrows():\n",
    "    try:\n",
    "        GP_string = country_to_GP[row['location']]\n",
    "    except:\n",
    "        GP_string = row['location'] + '_Grand_Prix'\n",
    "\n",
    "    wiki_link = 'https://en.wikipedia.org/wiki/' + str(row['season']) + '_' + GP_string\n",
    "    wiki_links.append(wiki_link)\n",
    "\n",
    "race_list['wiki_link'] = wiki_links\n",
    "    "
   ]
  },
  {
   "cell_type": "code",
   "execution_count": 59,
   "metadata": {},
   "outputs": [
    {
     "name": "stdout",
     "output_type": "stream",
     "text": [
      "(1089, 4)\n"
     ]
    }
   ],
   "source": [
    "print(race_list.shape)"
   ]
  },
  {
   "cell_type": "code",
   "execution_count": 60,
   "metadata": {},
   "outputs": [],
   "source": [
    "weather_info = []\n",
    "dates = []\n",
    "course_lengths = []\n",
    "circuit_names = []\n",
    "\n",
    "for link in wiki_links:\n",
    "    try:\n",
    "        for table_index in range(4):\n",
    "            df = pd.read_html(link)[table_index]\n",
    "            if 'Date' in df.iloc[:, 0].values:\n",
    "                # print(df.iloc[6,1])\n",
    "                try:\n",
    "                    row_index_weather = df.iloc[:, 0].values.tolist().index('Weather')\n",
    "                    weather = parse_weather_info(df.iloc[row_index_weather, 1])\n",
    "                    weather_info.append(weather)\n",
    "                except:\n",
    "                    weather_info.append(None)\n",
    "                try:\n",
    "                    row_index_circuit_name = df.iloc[:, 0].values.tolist().index('Location')\n",
    "                    circuit_name = df.iloc[row_index_circuit_name, 1]\n",
    "                    circuit_names.append(circuit_name)\n",
    "                except:\n",
    "                    circuit_names.append(None)\n",
    "                try:\n",
    "                    row_index_dates = df.iloc[:, 0].values.tolist().index('Date')\n",
    "                    date = parse_date(df.iloc[row_index_dates, 1])\n",
    "                    dates.append(date)\n",
    "                except:\n",
    "                    dates.append(None)\n",
    "                try:\n",
    "                    row_index_course_lengths = df.iloc[:, 0].values.tolist().index('Course length')\n",
    "                    course_lengths.append(df.iloc[row_index_course_lengths, 1])\n",
    "                except:\n",
    "                    course_lengths.append(None)\n",
    "                break\n",
    "    except:\n",
    "        weather_info.append(None)\n",
    "        dates.append(None)\n",
    "        course_lengths.append(None)\n",
    "        circuit_names.append(None)\n",
    "\n"
   ]
  },
  {
   "cell_type": "code",
   "execution_count": 105,
   "metadata": {},
   "outputs": [
    {
     "name": "stdout",
     "output_type": "stream",
     "text": [
      "Circuit de Spa-Francorchamps, Francorchamps, Wallonia, Belgium\n",
      "1089\n",
      "season                                                    1991\n",
      "round                                                       11\n",
      "location                                               Belgium\n",
      "wiki_link    https://en.wikipedia.org/wiki/1991_Belgian_Gra...\n",
      "Name: 510, dtype: object\n"
     ]
    }
   ],
   "source": [
    "# circuit_names.insert(510, \"6.940 km (4.312 miles)\")\n",
    "# course_lengths.insert(510, \"Circuit de Spa-Francorchamps, Francorchamps, Wallonia, Belgium\")\n",
    "# dates.insert(510, \"25 August, 1991\")\n",
    "# weather_info.insert(510, \"dry\")\n",
    "\n",
    "# print(circuit_names[510])\n",
    "# print(len(weather_info))\n",
    "# print(race_list.iloc[510])\n"
   ]
  },
  {
   "cell_type": "code",
   "execution_count": 106,
   "metadata": {},
   "outputs": [],
   "source": [
    "race_list['circuit_length'] = course_lengths\n",
    "race_list['date'] = dates\n",
    "race_list['weather'] = weather_info\n",
    "race_list['circuit_full_name'] = circuit_names"
   ]
  },
  {
   "cell_type": "code",
   "execution_count": 107,
   "metadata": {},
   "outputs": [
    {
     "name": "stdout",
     "output_type": "stream",
     "text": [
      "      season  round          location  \\\n",
      "0       1950      1     Great Britain   \n",
      "1       1950      2            Monaco   \n",
      "2       1950      3  Indianapolis 500   \n",
      "3       1950      4       Switzerland   \n",
      "4       1950      5           Belgium   \n",
      "...      ...    ...               ...   \n",
      "1084    2023      6            Monaco   \n",
      "1085    2023      7             Spain   \n",
      "1086    2023      8            Canada   \n",
      "1087    2023      9           Austria   \n",
      "1088    2023     10     Great Britain   \n",
      "\n",
      "                                              wiki_link  \\\n",
      "0     https://en.wikipedia.org/wiki/1950_British_Gra...   \n",
      "1     https://en.wikipedia.org/wiki/1950_Monaco_Gran...   \n",
      "2     https://en.wikipedia.org/wiki/1950_Indianapoli...   \n",
      "3     https://en.wikipedia.org/wiki/1950_Swiss_Grand...   \n",
      "4     https://en.wikipedia.org/wiki/1950_Belgian_Gra...   \n",
      "...                                                 ...   \n",
      "1084  https://en.wikipedia.org/wiki/2023_Monaco_Gran...   \n",
      "1085  https://en.wikipedia.org/wiki/2023_Spanish_Gra...   \n",
      "1086  https://en.wikipedia.org/wiki/2023_Canadian_Gr...   \n",
      "1087  https://en.wikipedia.org/wiki/2023_Austrian_Gr...   \n",
      "1088  https://en.wikipedia.org/wiki/2023_British_Gra...   \n",
      "\n",
      "               circuit_length           date weather  \\\n",
      "0         4.649 km (2.889 mi)   13 May, 1950     dry   \n",
      "1      3.180 km (1.976 miles)   21 May, 1950    None   \n",
      "2        4.023 km (2.5 miles)   30 May, 1950     wet   \n",
      "3       7.28 km (4.524 miles)   4 June, 1950     dry   \n",
      "4     14.120 km (8.825 miles)  18 June, 1950     dry   \n",
      "...                       ...            ...     ...   \n",
      "1084   3.337 km (2.074 miles)   28 May, 2023     wet   \n",
      "1085   4.657 km (2.894 miles)   4 June, 2023  cloudy   \n",
      "1086   4.361 km (2.710 miles)  18 June, 2023  cloudy   \n",
      "1087   4.318 km (2.683 miles)   2 July, 2023  cloudy   \n",
      "1088   5.891 km (3.660 miles)   9 July, 2023  cloudy   \n",
      "\n",
      "                                      circuit_full_name  \n",
      "0              Silverstone Circuit Silverstone, England  \n",
      "1                                     Circuit de Monaco  \n",
      "2                           Indianapolis Motor Speedway  \n",
      "3                         Bremgarten, Bern, Switzerland  \n",
      "4                       Spa-Francorchamps, Spa, Belgium  \n",
      "...                                                 ...  \n",
      "1084  Circuit de Monaco La Condamine and Monte Carlo...  \n",
      "1085    Circuit de Barcelona-Catalunya, Montmeló, Spain  \n",
      "1086  Circuit Gilles Villeneuve, Montréal, Quebec, C...  \n",
      "1087           Red Bull Ring Spielberg, Styria, Austria  \n",
      "1088    Silverstone Circuit Silverstone, United Kingdom  \n",
      "\n",
      "[1089 rows x 8 columns]\n"
     ]
    }
   ],
   "source": [
    "print(race_list)"
   ]
  },
  {
   "cell_type": "code",
   "execution_count": 108,
   "metadata": {},
   "outputs": [],
   "source": [
    "race_list.to_csv(create_data_here +'final_race_list.csv', index=False)"
   ]
  }
 ],
 "metadata": {
  "kernelspec": {
   "display_name": "formulakernel",
   "language": "python",
   "name": "formulakernel"
  },
  "language_info": {
   "codemirror_mode": {
    "name": "ipython",
    "version": 3
   },
   "file_extension": ".py",
   "mimetype": "text/x-python",
   "name": "python",
   "nbconvert_exporter": "python",
   "pygments_lexer": "ipython3",
   "version": "3.10.5"
  },
  "orig_nbformat": 4
 },
 "nbformat": 4,
 "nbformat_minor": 2
}
