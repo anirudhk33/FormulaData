{
 "cells": [
  {
   "cell_type": "code",
   "execution_count": 85,
   "metadata": {},
   "outputs": [],
   "source": [
    "import pandas as pd\n",
    "import numpy as np\n",
    "from bs4 import BeautifulSoup\n",
    "import requests"
   ]
  },
  {
   "cell_type": "code",
   "execution_count": 86,
   "metadata": {},
   "outputs": [],
   "source": [
    "race_list = pd.read_csv('race_list.csv')"
   ]
  },
  {
   "cell_type": "code",
   "execution_count": 87,
   "metadata": {},
   "outputs": [
    {
     "name": "stdout",
     "output_type": "stream",
     "text": [
      "52\n",
      "0        Great Britain\n",
      "1               Monaco\n",
      "2     Indianapolis 500\n",
      "3          Switzerland\n",
      "4              Belgium\n",
      "5               France\n",
      "6                Italy\n",
      "7              Germany\n",
      "8                Spain\n",
      "9          Netherlands\n",
      "10           Argentina\n",
      "11             Pescara\n",
      "12            Portugal\n",
      "13             Morocco\n",
      "14       United States\n",
      "15        South Africa\n",
      "16              Mexico\n",
      "17             Austria\n",
      "18              Canada\n",
      "19              Brazil\n",
      "20              Sweden\n",
      "21            USA West\n",
      "22            USA East\n",
      "23               Japan\n",
      "24          San Marino\n",
      "25           Las Vegas\n",
      "26             Detroit\n",
      "27              Europe\n",
      "28              Dallas\n",
      "29           Australia\n",
      "30             Hungary\n",
      "31             Pacific\n",
      "32          Luxembourg\n",
      "33            Malaysia\n",
      "34             Bahrain\n",
      "35               China\n",
      "36              Turkey\n",
      "37           Singapore\n",
      "38           Abu Dhabi\n",
      "39         South Korea\n",
      "40               India\n",
      "41              Russia\n",
      "42          Azerbaijan\n",
      "43              Styria\n",
      "44    70th Anniversary\n",
      "45             Tuscany\n",
      "46               Eifel\n",
      "47      Emilia Romagna\n",
      "48              Sakhir\n",
      "49               Qatar\n",
      "50        Saudi Arabia\n",
      "51               Miami\n",
      "Name: location, dtype: object\n"
     ]
    }
   ],
   "source": [
    "unique_locations = race_list[\"location\"].drop_duplicates().reset_index(drop=True)\n",
    "print(len(unique_locations))\n",
    "print(unique_locations)"
   ]
  },
  {
   "cell_type": "code",
   "execution_count": 88,
   "metadata": {},
   "outputs": [],
   "source": [
    "countries = [\n",
    "    'United Kingdom',\n",
    "    'Monaco',\n",
    "    'United States',\n",
    "    'Switzerland',\n",
    "    'Belgium',\n",
    "    'France',\n",
    "    'Italy',\n",
    "    'Germany',\n",
    "    'Spain',\n",
    "    'Netherlands',\n",
    "    'Argentina',\n",
    "    'Italy',\n",
    "    'Portugal',\n",
    "    'Morocco',\n",
    "    'United States',\n",
    "    'South Africa',\n",
    "    'Mexico',\n",
    "    'Austria',\n",
    "    'Canada',\n",
    "    'Brazil',\n",
    "    'Sweden',\n",
    "    'United States',\n",
    "    'United States',\n",
    "    'Japan',\n",
    "    'Italy',\n",
    "    'United States',\n",
    "    'United States',\n",
    "    'Spain',\n",
    "    'United States',\n",
    "    'Australia',\n",
    "    'Hungary',\n",
    "    'Japan',\n",
    "    'Luxembourg',\n",
    "    'Malaysia',\n",
    "    'Bahrain',\n",
    "    'China',\n",
    "    'Turkey',\n",
    "    'Singapore',\n",
    "    'United Arab Emirates',\n",
    "    'South Korea',\n",
    "    'India',\n",
    "    'Russia',\n",
    "    'Azerbaijan',\n",
    "    'Austria',\n",
    "    'United Kingdom',\n",
    "    'Italy',\n",
    "    'Germany',\n",
    "    'Italy',\n",
    "    'Bahrain',\n",
    "    'Qatar',\n",
    "    'Saudi Arabia',\n",
    "    'United States'\n",
    "]\n"
   ]
  },
  {
   "cell_type": "code",
   "execution_count": 89,
   "metadata": {},
   "outputs": [
    {
     "name": "stdout",
     "output_type": "stream",
     "text": [
      "52\n"
     ]
    }
   ],
   "source": [
    "print(len(countries))"
   ]
  },
  {
   "cell_type": "code",
   "execution_count": 90,
   "metadata": {},
   "outputs": [
    {
     "name": "stderr",
     "output_type": "stream",
     "text": [
      "/var/folders/d1/vbsd1tv103g96pjdcz4ljk0r0000gn/T/ipykernel_23684/1838390782.py:8: DeprecationWarning: The 'text' argument to find()-type methods is deprecated. Use 'string' instead.\n",
      "  td_tag = soup.find('td', text=country)\n"
     ]
    }
   ],
   "source": [
    "coordinates_url = \"https://developers.google.com/public-data/docs/canonical/countries_csv\"\n",
    "response = requests.get(coordinates_url)\n",
    "soup = BeautifulSoup(response.text, 'html.parser')\n",
    "longitudes = []\n",
    "latitudes = []\n",
    "\n",
    "for i, country in enumerate(countries):\n",
    "  td_tag = soup.find('td', text=country)\n",
    "  if td_tag:\n",
    "    longitude_tag = td_tag.find_previous_sibling()\n",
    "    latitude_tag = longitude_tag.find_previous_sibling()\n",
    "    longitudes.append(longitude_tag.text)\n",
    "    latitudes.append(latitude_tag.text)\n",
    "  else:\n",
    "    print(countries[i])"
   ]
  },
  {
   "cell_type": "code",
   "execution_count": 91,
   "metadata": {},
   "outputs": [
    {
     "name": "stdout",
     "output_type": "stream",
     "text": [
      "['55.378051', '43.750298', '37.09024', '46.818188', '50.503887', '46.227638', '41.87194', '51.165691', '40.463667', '52.132633', '-38.416097', '41.87194', '39.399872', '31.791702', '37.09024', '-30.559482', '23.634501', '47.516231', '56.130366', '-14.235004', '60.128161', '37.09024', '37.09024', '36.204824', '41.87194', '37.09024', '37.09024', '40.463667', '37.09024', '-25.274398', '47.162494', '36.204824', '49.815273', '4.210484', '25.930414', '35.86166', '38.963745', '1.352083', '23.424076', '35.907757', '20.593684', '61.52401', '40.143105', '47.516231', '55.378051', '41.87194', '51.165691', '41.87194', '25.930414', '25.354826', '23.885942', '37.09024']\n",
      "['-3.435973', '7.412841', '-95.712891', '8.227512', '4.469936', '2.213749', '12.56738', '10.451526', '-3.74922', '5.291266', '-63.616672', '12.56738', '-8.224454', '-7.09262', '-95.712891', '22.937506', '-102.552784', '14.550072', '-106.346771', '-51.92528', '18.643501', '-95.712891', '-95.712891', '138.252924', '12.56738', '-95.712891', '-95.712891', '-3.74922', '-95.712891', '133.775136', '19.503304', '138.252924', '6.129583', '101.975766', '50.637772', '104.195397', '35.243322', '103.819836', '53.847818', '127.766922', '78.96288', '105.318756', '47.576927', '14.550072', '-3.435973', '12.56738', '10.451526', '12.56738', '50.637772', '51.183884', '45.079162', '-95.712891']\n"
     ]
    }
   ],
   "source": [
    "print((latitudes))\n",
    "print((longitudes))"
   ]
  },
  {
   "cell_type": "code",
   "execution_count": 92,
   "metadata": {},
   "outputs": [],
   "source": [
    "coordinates = pd.DataFrame()\n",
    "coordinates['location'] = unique_locations\n",
    "coordinates['latitude'] = latitudes\n",
    "coordinates['longitude'] = longitudes"
   ]
  },
  {
   "cell_type": "code",
   "execution_count": 93,
   "metadata": {},
   "outputs": [
    {
     "name": "stdout",
     "output_type": "stream",
     "text": [
      "            location    latitude    longitude\n",
      "0      Great Britain   55.378051    -3.435973\n",
      "1             Monaco   43.750298     7.412841\n",
      "2   Indianapolis 500    37.09024   -95.712891\n",
      "3        Switzerland   46.818188     8.227512\n",
      "4            Belgium   50.503887     4.469936\n",
      "5             France   46.227638     2.213749\n",
      "6              Italy    41.87194     12.56738\n",
      "7            Germany   51.165691    10.451526\n",
      "8              Spain   40.463667     -3.74922\n",
      "9        Netherlands   52.132633     5.291266\n",
      "10         Argentina  -38.416097   -63.616672\n",
      "11           Pescara    41.87194     12.56738\n",
      "12          Portugal   39.399872    -8.224454\n",
      "13           Morocco   31.791702     -7.09262\n",
      "14     United States    37.09024   -95.712891\n",
      "15      South Africa  -30.559482    22.937506\n",
      "16            Mexico   23.634501  -102.552784\n",
      "17           Austria   47.516231    14.550072\n",
      "18            Canada   56.130366  -106.346771\n",
      "19            Brazil  -14.235004    -51.92528\n",
      "20            Sweden   60.128161    18.643501\n",
      "21          USA West    37.09024   -95.712891\n",
      "22          USA East    37.09024   -95.712891\n",
      "23             Japan   36.204824   138.252924\n",
      "24        San Marino    41.87194     12.56738\n",
      "25         Las Vegas    37.09024   -95.712891\n",
      "26           Detroit    37.09024   -95.712891\n",
      "27            Europe   40.463667     -3.74922\n",
      "28            Dallas    37.09024   -95.712891\n",
      "29         Australia  -25.274398   133.775136\n",
      "30           Hungary   47.162494    19.503304\n",
      "31           Pacific   36.204824   138.252924\n",
      "32        Luxembourg   49.815273     6.129583\n",
      "33          Malaysia    4.210484   101.975766\n",
      "34           Bahrain   25.930414    50.637772\n",
      "35             China    35.86166   104.195397\n",
      "36            Turkey   38.963745    35.243322\n",
      "37         Singapore    1.352083   103.819836\n",
      "38         Abu Dhabi   23.424076    53.847818\n",
      "39       South Korea   35.907757   127.766922\n",
      "40             India   20.593684     78.96288\n",
      "41            Russia    61.52401   105.318756\n",
      "42        Azerbaijan   40.143105    47.576927\n",
      "43            Styria   47.516231    14.550072\n",
      "44  70th Anniversary   55.378051    -3.435973\n",
      "45           Tuscany    41.87194     12.56738\n",
      "46             Eifel   51.165691    10.451526\n",
      "47    Emilia Romagna    41.87194     12.56738\n",
      "48            Sakhir   25.930414    50.637772\n",
      "49             Qatar   25.354826    51.183884\n",
      "50      Saudi Arabia   23.885942    45.079162\n",
      "51             Miami    37.09024   -95.712891\n"
     ]
    }
   ],
   "source": [
    "print(coordinates)"
   ]
  },
  {
   "cell_type": "code",
   "execution_count": 94,
   "metadata": {},
   "outputs": [],
   "source": [
    "race_data = pd.read_csv('full_race_data.csv')"
   ]
  },
  {
   "cell_type": "code",
   "execution_count": 95,
   "metadata": {},
   "outputs": [],
   "source": [
    "full_race_data = race_data.merge(coordinates, on=['location'], how='outer')\n",
    "full_race_data.to_csv('/Users/anirudhkrishna/GitHub/FormulaData/full_race_data.csv', index=False)"
   ]
  }
 ],
 "metadata": {
  "kernelspec": {
   "display_name": "formulakernel",
   "language": "python",
   "name": "formulakernel"
  },
  "language_info": {
   "codemirror_mode": {
    "name": "ipython",
    "version": 3
   },
   "file_extension": ".py",
   "mimetype": "text/x-python",
   "name": "python",
   "nbconvert_exporter": "python",
   "pygments_lexer": "ipython3",
   "version": "3.10.5"
  },
  "orig_nbformat": 4
 },
 "nbformat": 4,
 "nbformat_minor": 2
}
