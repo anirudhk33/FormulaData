{
 "cells": [
  {
   "cell_type": "code",
   "execution_count": 34,
   "metadata": {},
   "outputs": [],
   "source": [
    "import pandas as pd\n",
    "import numpy as np"
   ]
  },
  {
   "cell_type": "code",
   "execution_count": 35,
   "metadata": {},
   "outputs": [],
   "source": [
    "fastest_laps = pd.read_csv('fastest_laps.csv')\n",
    "final_race_list = pd.read_csv('final_race_list.csv')\n",
    "free_practice_results = pd.read_csv('free_practice_results.csv')\n",
    "qualifying_results = pd.read_csv('qualifying_results.csv')\n",
    "race_results = pd.read_csv('race_results.csv')"
   ]
  },
  {
   "cell_type": "code",
   "execution_count": 36,
   "metadata": {},
   "outputs": [
    {
     "name": "stdout",
     "output_type": "stream",
     "text": [
      "  finishing_position  car_number            driver_name  constructor  \\\n",
      "0                  1           2            Nino Farina   Alfa Romeo   \n",
      "1                  2           3          Luigi Fagioli   Alfa Romeo   \n",
      "2                  3           4            Reg Parnell   Alfa Romeo   \n",
      "3                  4          14  Yves Giraud-Cabantous  Talbot-Lago   \n",
      "4                  5          15           Louis Rosier  Talbot-Lago   \n",
      "\n",
      "   race_laps    race_time  points  season  round       location  \n",
      "0       70.0  2:13:23.600     9.0    1950      1  Great Britain  \n",
      "1       70.0      +2.600s     6.0    1950      1  Great Britain  \n",
      "2       70.0     +52.000s     4.0    1950      1  Great Britain  \n",
      "3       68.0      +2 laps     3.0    1950      1  Great Britain  \n",
      "4       68.0      +2 laps     2.0    1950      1  Great Britain  \n"
     ]
    }
   ],
   "source": [
    "print(race_results.head())"
   ]
  },
  {
   "cell_type": "code",
   "execution_count": 37,
   "metadata": {},
   "outputs": [
    {
     "name": "stdout",
     "output_type": "stream",
     "text": [
      "   season  round grid_position           driver_name qualifying_time\n",
      "0    1951      1             1    Juan Manuel Fangio        2:35.900\n",
      "1    1951      1             2           Nino Farina             NaN\n",
      "2    1951      1             3       Luigi Villoresi             NaN\n",
      "3    1951      1             4       Consalvo Sanesi             NaN\n",
      "4    1951      1             5  Toulo de Graffenried             NaN\n"
     ]
    }
   ],
   "source": [
    "print(qualifying_results.head())"
   ]
  },
  {
   "cell_type": "code",
   "execution_count": 38,
   "metadata": {},
   "outputs": [],
   "source": [
    "qualifying_and_race_results = race_results.merge(qualifying_results, on=['driver_name', 'season', 'round'], how='outer')"
   ]
  },
  {
   "cell_type": "code",
   "execution_count": 39,
   "metadata": {},
   "outputs": [
    {
     "name": "stdout",
     "output_type": "stream",
     "text": [
      "  finishing_position  car_number            driver_name  constructor  \\\n",
      "0                  1         2.0            Nino Farina   Alfa Romeo   \n",
      "1                  2         3.0          Luigi Fagioli   Alfa Romeo   \n",
      "2                  3         4.0            Reg Parnell   Alfa Romeo   \n",
      "3                  4        14.0  Yves Giraud-Cabantous  Talbot-Lago   \n",
      "4                  5        15.0           Louis Rosier  Talbot-Lago   \n",
      "\n",
      "   race_laps    race_time  points  season  round       location grid_position  \\\n",
      "0       70.0  2:13:23.600     9.0    1950      1  Great Britain           NaN   \n",
      "1       70.0      +2.600s     6.0    1950      1  Great Britain           NaN   \n",
      "2       70.0     +52.000s     4.0    1950      1  Great Britain           NaN   \n",
      "3       68.0      +2 laps     3.0    1950      1  Great Britain           NaN   \n",
      "4       68.0      +2 laps     2.0    1950      1  Great Britain           NaN   \n",
      "\n",
      "  qualifying_time  \n",
      "0             NaN  \n",
      "1             NaN  \n",
      "2             NaN  \n",
      "3             NaN  \n",
      "4             NaN  \n"
     ]
    }
   ],
   "source": [
    "print(qualifying_and_race_results.head())"
   ]
  },
  {
   "cell_type": "code",
   "execution_count": 40,
   "metadata": {},
   "outputs": [],
   "source": [
    "qualifying_race_practice_results = qualifying_and_race_results.merge(free_practice_results, on=['driver_name', 'season', 'round'], how='outer')"
   ]
  },
  {
   "cell_type": "code",
   "execution_count": 41,
   "metadata": {},
   "outputs": [
    {
     "name": "stdout",
     "output_type": "stream",
     "text": [
      "  finishing_position  car_number            driver_name  constructor  \\\n",
      "0                  1         2.0            Nino Farina   Alfa Romeo   \n",
      "1                  2         3.0          Luigi Fagioli   Alfa Romeo   \n",
      "2                  3         4.0            Reg Parnell   Alfa Romeo   \n",
      "3                  4        14.0  Yves Giraud-Cabantous  Talbot-Lago   \n",
      "4                  5        15.0           Louis Rosier  Talbot-Lago   \n",
      "\n",
      "   race_laps    race_time  points  season  round       location grid_position  \\\n",
      "0       70.0  2:13:23.600     9.0    1950      1  Great Britain           NaN   \n",
      "1       70.0      +2.600s     6.0    1950      1  Great Britain           NaN   \n",
      "2       70.0     +52.000s     4.0    1950      1  Great Britain           NaN   \n",
      "3       68.0      +2 laps     3.0    1950      1  Great Britain           NaN   \n",
      "4       68.0      +2 laps     2.0    1950      1  Great Britain           NaN   \n",
      "\n",
      "  qualifying_time  fp1_pos  fp2_pos  fp3_pos  \n",
      "0             NaN      NaN      NaN      NaN  \n",
      "1             NaN      NaN      NaN      NaN  \n",
      "2             NaN      NaN      NaN      NaN  \n",
      "3             NaN      NaN      NaN      NaN  \n",
      "4             NaN      NaN      NaN      NaN  \n"
     ]
    }
   ],
   "source": [
    "print(qualifying_race_practice_results.head())"
   ]
  },
  {
   "cell_type": "code",
   "execution_count": 42,
   "metadata": {},
   "outputs": [
    {
     "name": "stdout",
     "output_type": "stream",
     "text": [
      "   fastest_lap_pos         driver_name  fastest_lap_number  lap_time  season  \\\n",
      "0                1         Nino Farina                 2.0  1:50.600    1950   \n",
      "1                1  Juan Manuel Fangio                 NaN  1:51.000    1950   \n",
      "2                1     Johnnie Parsons                 NaN       NaN    1950   \n",
      "3                1         Nino Farina                 8.0  2:41.600    1950   \n",
      "4                1         Nino Farina                18.0  4:34.100    1950   \n",
      "\n",
      "   round  \n",
      "0      1  \n",
      "1      2  \n",
      "2      3  \n",
      "3      4  \n",
      "4      5  \n"
     ]
    }
   ],
   "source": [
    "print(fastest_laps.head())"
   ]
  },
  {
   "cell_type": "code",
   "execution_count": 43,
   "metadata": {},
   "outputs": [],
   "source": [
    "weekend_results = qualifying_race_practice_results.merge(fastest_laps, on=['driver_name', 'season', 'round'], how='outer')"
   ]
  },
  {
   "cell_type": "code",
   "execution_count": 44,
   "metadata": {},
   "outputs": [
    {
     "name": "stdout",
     "output_type": "stream",
     "text": [
      "  finishing_position  car_number            driver_name  constructor  \\\n",
      "0                  1         2.0            Nino Farina   Alfa Romeo   \n",
      "1                  2         3.0          Luigi Fagioli   Alfa Romeo   \n",
      "2                  3         4.0            Reg Parnell   Alfa Romeo   \n",
      "3                  4        14.0  Yves Giraud-Cabantous  Talbot-Lago   \n",
      "4                  5        15.0           Louis Rosier  Talbot-Lago   \n",
      "\n",
      "   race_laps    race_time  points  season  round       location grid_position  \\\n",
      "0       70.0  2:13:23.600     9.0    1950      1  Great Britain           NaN   \n",
      "1       70.0      +2.600s     6.0    1950      1  Great Britain           NaN   \n",
      "2       70.0     +52.000s     4.0    1950      1  Great Britain           NaN   \n",
      "3       68.0      +2 laps     3.0    1950      1  Great Britain           NaN   \n",
      "4       68.0      +2 laps     2.0    1950      1  Great Britain           NaN   \n",
      "\n",
      "  qualifying_time  fp1_pos  fp2_pos  fp3_pos  fastest_lap_pos  \\\n",
      "0             NaN      NaN      NaN      NaN              1.0   \n",
      "1             NaN      NaN      NaN      NaN              NaN   \n",
      "2             NaN      NaN      NaN      NaN              NaN   \n",
      "3             NaN      NaN      NaN      NaN              NaN   \n",
      "4             NaN      NaN      NaN      NaN              NaN   \n",
      "\n",
      "   fastest_lap_number  lap_time  \n",
      "0                 2.0  1:50.600  \n",
      "1                 NaN       NaN  \n",
      "2                 NaN       NaN  \n",
      "3                 NaN       NaN  \n",
      "4                 NaN       NaN  \n"
     ]
    }
   ],
   "source": [
    "print(weekend_results.head())"
   ]
  },
  {
   "cell_type": "code",
   "execution_count": 45,
   "metadata": {},
   "outputs": [
    {
     "name": "stdout",
     "output_type": "stream",
     "text": [
      "   season  round          location  \\\n",
      "0    1950      1     Great Britain   \n",
      "1    1950      2            Monaco   \n",
      "2    1950      3  Indianapolis 500   \n",
      "3    1950      4       Switzerland   \n",
      "4    1950      5           Belgium   \n",
      "\n",
      "                                           wiki_link           circuit_length  \\\n",
      "0  https://en.wikipedia.org/wiki/1950_British_Gra...      4.649 km (2.889 mi)   \n",
      "1  https://en.wikipedia.org/wiki/1950_Monaco_Gran...   3.180 km (1.976 miles)   \n",
      "2  https://en.wikipedia.org/wiki/1950_Indianapoli...     4.023 km (2.5 miles)   \n",
      "3  https://en.wikipedia.org/wiki/1950_Swiss_Grand...    7.28 km (4.524 miles)   \n",
      "4  https://en.wikipedia.org/wiki/1950_Belgian_Gra...  14.120 km (8.825 miles)   \n",
      "\n",
      "            date weather                         circuit_full_name  \n",
      "0   13 May, 1950     dry  Silverstone Circuit Silverstone, England  \n",
      "1   21 May, 1950     NaN                         Circuit de Monaco  \n",
      "2   30 May, 1950     wet               Indianapolis Motor Speedway  \n",
      "3   4 June, 1950     dry             Bremgarten, Bern, Switzerland  \n",
      "4  18 June, 1950     dry           Spa-Francorchamps, Spa, Belgium  \n"
     ]
    }
   ],
   "source": [
    "print(final_race_list.head())"
   ]
  },
  {
   "cell_type": "code",
   "execution_count": 46,
   "metadata": {},
   "outputs": [],
   "source": [
    "full_race_data = weekend_results.merge(final_race_list, on=['location','season', 'round'], how='outer')"
   ]
  },
  {
   "cell_type": "code",
   "execution_count": 47,
   "metadata": {},
   "outputs": [
    {
     "name": "stdout",
     "output_type": "stream",
     "text": [
      "  finishing_position  car_number            driver_name  constructor  \\\n",
      "0                  1         2.0            Nino Farina   Alfa Romeo   \n",
      "1                  2         3.0          Luigi Fagioli   Alfa Romeo   \n",
      "2                  3         4.0            Reg Parnell   Alfa Romeo   \n",
      "3                  4        14.0  Yves Giraud-Cabantous  Talbot-Lago   \n",
      "4                  5        15.0           Louis Rosier  Talbot-Lago   \n",
      "\n",
      "   race_laps    race_time  points  season  round       location  ... fp2_pos  \\\n",
      "0       70.0  2:13:23.600     9.0    1950      1  Great Britain  ...     NaN   \n",
      "1       70.0      +2.600s     6.0    1950      1  Great Britain  ...     NaN   \n",
      "2       70.0     +52.000s     4.0    1950      1  Great Britain  ...     NaN   \n",
      "3       68.0      +2 laps     3.0    1950      1  Great Britain  ...     NaN   \n",
      "4       68.0      +2 laps     2.0    1950      1  Great Britain  ...     NaN   \n",
      "\n",
      "  fp3_pos  fastest_lap_pos  fastest_lap_number  lap_time  \\\n",
      "0     NaN              1.0                 2.0  1:50.600   \n",
      "1     NaN              NaN                 NaN       NaN   \n",
      "2     NaN              NaN                 NaN       NaN   \n",
      "3     NaN              NaN                 NaN       NaN   \n",
      "4     NaN              NaN                 NaN       NaN   \n",
      "\n",
      "                                           wiki_link       circuit_length  \\\n",
      "0  https://en.wikipedia.org/wiki/1950_British_Gra...  4.649 km (2.889 mi)   \n",
      "1  https://en.wikipedia.org/wiki/1950_British_Gra...  4.649 km (2.889 mi)   \n",
      "2  https://en.wikipedia.org/wiki/1950_British_Gra...  4.649 km (2.889 mi)   \n",
      "3  https://en.wikipedia.org/wiki/1950_British_Gra...  4.649 km (2.889 mi)   \n",
      "4  https://en.wikipedia.org/wiki/1950_British_Gra...  4.649 km (2.889 mi)   \n",
      "\n",
      "           date weather                         circuit_full_name  \n",
      "0  13 May, 1950     dry  Silverstone Circuit Silverstone, England  \n",
      "1  13 May, 1950     dry  Silverstone Circuit Silverstone, England  \n",
      "2  13 May, 1950     dry  Silverstone Circuit Silverstone, England  \n",
      "3  13 May, 1950     dry  Silverstone Circuit Silverstone, England  \n",
      "4  13 May, 1950     dry  Silverstone Circuit Silverstone, England  \n",
      "\n",
      "[5 rows x 23 columns]\n"
     ]
    }
   ],
   "source": [
    "print(full_race_data.head())"
   ]
  },
  {
   "cell_type": "code",
   "execution_count": 48,
   "metadata": {},
   "outputs": [],
   "source": [
    "full_race_data.to_csv('/Users/anirudhkrishna/GitHub/FormulaData/full_race_data.csv', index=False)"
   ]
  },
  {
   "cell_type": "code",
   "execution_count": null,
   "metadata": {},
   "outputs": [],
   "source": []
  }
 ],
 "metadata": {
  "kernelspec": {
   "display_name": "formulakernel",
   "language": "python",
   "name": "formulakernel"
  },
  "language_info": {
   "codemirror_mode": {
    "name": "ipython",
    "version": 3
   },
   "file_extension": ".py",
   "mimetype": "text/x-python",
   "name": "python",
   "nbconvert_exporter": "python",
   "pygments_lexer": "ipython3",
   "version": "3.10.5"
  },
  "orig_nbformat": 4
 },
 "nbformat": 4,
 "nbformat_minor": 2
}
