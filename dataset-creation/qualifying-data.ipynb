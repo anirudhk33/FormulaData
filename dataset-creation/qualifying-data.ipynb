{
 "cells": [
  {
   "attachments": {},
   "cell_type": "markdown",
   "metadata": {},
   "source": [
    "# Scraping Qualifying Data from https://www.formula1.com/"
   ]
  },
  {
   "cell_type": "code",
   "execution_count": 44,
   "metadata": {},
   "outputs": [],
   "source": [
    "import pandas as pd\n",
    "import numpy as np\n",
    "import requests\n",
    "from bs4 import BeautifulSoup\n",
    "from selenium import webdriver\n",
    "\n",
    "create_data_here = '/Users/anirudhkrishna/GitHub/FormulaData/csv-data/'"
   ]
  },
  {
   "cell_type": "code",
   "execution_count": 45,
   "metadata": {},
   "outputs": [],
   "source": [
    "def parse_driver_name(row):\n",
    "    words = row.split()\n",
    "    parsed_string = ' '.join(words[:-1])\n",
    "    return parsed_string\n",
    "\n",
    "def parse_car_name(row):\n",
    "    try:\n",
    "        words = row.split()\n",
    "    except:\n",
    "        return row\n",
    "    parsed_string = ' '.join(words)\n",
    "    return parsed_string"
   ]
  },
  {
   "cell_type": "code",
   "execution_count": 46,
   "metadata": {},
   "outputs": [
    {
     "name": "stdout",
     "output_type": "stream",
     "text": [
      "(24205, 10)\n"
     ]
    }
   ],
   "source": [
    "qualifying_results = pd.DataFrame()\n",
    "\n",
    "for year in range(1951, 2024):\n",
    "    races_url = f'https://www.formula1.com/en/results.html/{year}/races.html'\n",
    "    response = requests.get(races_url)\n",
    "    soup = BeautifulSoup(response.text, 'html.parser')\n",
    "\n",
    "    race_links = []\n",
    "    filter_links = soup.find_all('a', attrs={'class': 'resultsarchive-filter-item-link FilterTrigger'})\n",
    "    for link in filter_links:\n",
    "        href = link.get('href')\n",
    "        if f'/en/results.html/{year}/races/' in href:\n",
    "            race_links.append(href)\n",
    "\n",
    "    year_df = pd.DataFrame()\n",
    "\n",
    "    round_num = 1\n",
    "    for race_link in race_links:\n",
    "        grid_link = race_link.replace('race-result.html', 'starting-grid.html')\n",
    "        try:\n",
    "            df = pd.read_html(f'https://www.formula1.com{grid_link}')[0]\n",
    "        except:\n",
    "            continue\n",
    "        df['season'] = year\n",
    "        df['round'] = round_num\n",
    "        df = df.loc[:, ~df.columns.str.contains('Unnamed')]\n",
    "        year_df = pd.concat([year_df, df], ignore_index=True)\n",
    "        round_num += 1\n",
    "\n",
    "    qualifying_results = pd.concat([qualifying_results, year_df], ignore_index=True)\n",
    "\n",
    "print(qualifying_results.shape)\n"
   ]
  },
  {
   "cell_type": "code",
   "execution_count": 47,
   "metadata": {},
   "outputs": [
    {
     "name": "stdout",
     "output_type": "stream",
     "text": [
      "      Pos  No                      Driver                    Car      Time  \\\n",
      "0       1  24    Juan Manuel  Fangio  FAN             Alfa Romeo  2:35.900   \n",
      "1       2  22           Nino  Farina  FAR             Alfa Romeo       NaN   \n",
      "2       3  18        Luigi Villoresi  VIL                Ferrari       NaN   \n",
      "3       4  28        Consalvo Sanesi  SAN             Alfa Romeo       NaN   \n",
      "4       5  26  Toulo  de Graffenried  DEG             Alfa Romeo       NaN   \n",
      "...    ..  ..                         ...                    ...       ...   \n",
      "24200  16  22          Yuki  Tsunoda  TSU  AlphaTauri Honda RBPT  1:30.025   \n",
      "24201  17  24           Zhou  Guanyu  ZHO     Alfa Romeo Ferrari  1:30.123   \n",
      "24202  18  21         Nyck  De Vries  DEV  AlphaTauri Honda RBPT  1:30.513   \n",
      "24203  19  20       Kevin  Magnussen  MAG           Haas Ferrari  1:32.378   \n",
      "24204  20  77       Valtteri  Bottas  BOT     Alfa Romeo Ferrari       NaN   \n",
      "\n",
      "       season  round  Laps Time/Retired  PTS  \n",
      "0        1951      1   NaN          NaN  NaN  \n",
      "1        1951      1   NaN          NaN  NaN  \n",
      "2        1951      1   NaN          NaN  NaN  \n",
      "3        1951      1   NaN          NaN  NaN  \n",
      "4        1951      1   NaN          NaN  NaN  \n",
      "...       ...    ...   ...          ...  ...  \n",
      "24200    2023     10   NaN          NaN  NaN  \n",
      "24201    2023     10   NaN          NaN  NaN  \n",
      "24202    2023     10   NaN          NaN  NaN  \n",
      "24203    2023     10   NaN          NaN  NaN  \n",
      "24204    2023     10   NaN          NaN  NaN  \n",
      "\n",
      "[24205 rows x 10 columns]\n"
     ]
    }
   ],
   "source": [
    "print(qualifying_results)\n"
   ]
  },
  {
   "cell_type": "code",
   "execution_count": 48,
   "metadata": {},
   "outputs": [],
   "source": [
    "qualifying_results[\"Driver\"] = qualifying_results[\"Driver\"].apply(parse_driver_name)\n",
    "qualifying_results[\"Car\"] = qualifying_results[\"Car\"].apply(parse_car_name)\n",
    "qualifying_results.rename(columns = {'Pos': 'grid_position', 'No': 'car_number', 'Driver': 'driver_name', 'Car': 'constructor',\n",
    "                                     'Time': 'qualifying_time'}, inplace = True)"
   ]
  },
  {
   "cell_type": "code",
   "execution_count": 49,
   "metadata": {},
   "outputs": [
    {
     "name": "stdout",
     "output_type": "stream",
     "text": [
      "       season  round grid_position           driver_name qualifying_time\n",
      "0        1951      1             1    Juan Manuel Fangio        2:35.900\n",
      "1        1951      1             2           Nino Farina             NaN\n",
      "2        1951      1             3       Luigi Villoresi             NaN\n",
      "3        1951      1             4       Consalvo Sanesi             NaN\n",
      "4        1951      1             5  Toulo de Graffenried             NaN\n",
      "...       ...    ...           ...                   ...             ...\n",
      "24200    2023     10            16          Yuki Tsunoda        1:30.025\n",
      "24201    2023     10            17           Zhou Guanyu        1:30.123\n",
      "24202    2023     10            18         Nyck De Vries        1:30.513\n",
      "24203    2023     10            19       Kevin Magnussen        1:32.378\n",
      "24204    2023     10            20       Valtteri Bottas             NaN\n",
      "\n",
      "[24205 rows x 5 columns]\n"
     ]
    }
   ],
   "source": [
    "qualifying_results = qualifying_results[['season', 'round', 'grid_position', 'driver_name', 'qualifying_time']]\n",
    "print(qualifying_results)"
   ]
  },
  {
   "cell_type": "code",
   "execution_count": 50,
   "metadata": {},
   "outputs": [],
   "source": [
    "qualifying_results.to_csv(create_data_here + 'qualifying_results.csv', index=False)"
   ]
  },
  {
   "cell_type": "code",
   "execution_count": null,
   "metadata": {},
   "outputs": [],
   "source": []
  }
 ],
 "metadata": {
  "kernelspec": {
   "display_name": "formulakernel",
   "language": "python",
   "name": "formulakernel"
  },
  "language_info": {
   "codemirror_mode": {
    "name": "ipython",
    "version": 3
   },
   "file_extension": ".py",
   "mimetype": "text/x-python",
   "name": "python",
   "nbconvert_exporter": "python",
   "pygments_lexer": "ipython3",
   "version": "3.10.5"
  },
  "orig_nbformat": 4
 },
 "nbformat": 4,
 "nbformat_minor": 2
}
