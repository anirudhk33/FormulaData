{
 "cells": [
  {
   "cell_type": "code",
   "execution_count": 1,
   "metadata": {},
   "outputs": [],
   "source": [
    "import pandas as pd\n",
    "import numpy as np\n",
    "import requests\n",
    "from bs4 import BeautifulSoup\n",
    "from selenium import webdriver"
   ]
  },
  {
   "cell_type": "code",
   "execution_count": 16,
   "metadata": {},
   "outputs": [],
   "source": [
    "def parse_driver_name(row):\n",
    "    words = row.split()\n",
    "    parsed_string = ' '.join(words[:-1])\n",
    "    return parsed_string"
   ]
  },
  {
   "cell_type": "code",
   "execution_count": 62,
   "metadata": {},
   "outputs": [],
   "source": [
    "def FP_scrape_results(start,end,num):\n",
    "    num = str(num)\n",
    "    FP_results = pd.DataFrame()\n",
    "    for year in range(start, end):\n",
    "        races_url = f'https://www.formula1.com/en/results.html/{year}/races.html'\n",
    "        response = requests.get(races_url)\n",
    "        soup = BeautifulSoup(response.text, 'html.parser')\n",
    "\n",
    "        race_links = []\n",
    "        filter_links = soup.find_all('a', attrs={'class': 'resultsarchive-filter-item-link FilterTrigger'})\n",
    "        for link in filter_links:\n",
    "            href = link.get('href')\n",
    "            if f'/en/results.html/{year}/races/' in href:\n",
    "                race_links.append(href)\n",
    "\n",
    "        year_df = pd.DataFrame()\n",
    "\n",
    "        round_num = 1\n",
    "        for race_link in race_links:\n",
    "            FP_link = race_link.replace('race-result.html', f'practice-{num}.html')\n",
    "            try:\n",
    "                df = pd.read_html(f'https://www.formula1.com{FP_link}')[0]\n",
    "                df = df[['Pos','Driver']]\n",
    "            except:\n",
    "                try: \n",
    "                    ignore = pd.read_html(f'https://www.formula1.com{race_link}')[0]\n",
    "                    round_num+=1\n",
    "                    continue\n",
    "                except:\n",
    "                    continue\n",
    "            df['season'] = year\n",
    "            df['round'] = round_num\n",
    "            df = df.loc[:, ~df.columns.str.contains('Unnamed')]\n",
    "            year_df = pd.concat([year_df, df], ignore_index=True)\n",
    "            round_num += 1\n",
    "\n",
    "        FP_results = pd.concat([FP_results, year_df], ignore_index=True)\n",
    "    FP_results.rename(columns={'Pos': f'fp{num}_pos'}, inplace=True)\n",
    "    return FP_results\n",
    "\n",
    "# print(FP1_results.shape)\n"
   ]
  },
  {
   "cell_type": "code",
   "execution_count": 63,
   "metadata": {},
   "outputs": [],
   "source": [
    "FP1_results = FP_scrape_results(2019,2021,1)\n",
    "FP2_results = FP_scrape_results(2019,2021,2)\n",
    "FP3_results = FP_scrape_results(2019,2021,3)"
   ]
  },
  {
   "cell_type": "code",
   "execution_count": 64,
   "metadata": {},
   "outputs": [],
   "source": [
    "FP1_results[\"Driver\"] = FP1_results[\"Driver\"].apply(parse_driver_name)\n",
    "FP2_results[\"Driver\"] = FP2_results[\"Driver\"].apply(parse_driver_name)\n",
    "FP3_results[\"Driver\"] = FP3_results[\"Driver\"].apply(parse_driver_name)"
   ]
  },
  {
   "cell_type": "code",
   "execution_count": 65,
   "metadata": {},
   "outputs": [
    {
     "name": "stdout",
     "output_type": "stream",
     "text": [
      "   fp1_pos            Driver  season  round\n",
      "0        1    Lewis Hamilton    2019      1\n",
      "1        2  Sebastian Vettel    2019      1\n",
      "2        3   Charles Leclerc    2019      1\n",
      "3        4    Max Verstappen    2019      1\n",
      "4        5   Valtteri Bottas    2019      1\n",
      "   fp2_pos            Driver  season  round\n",
      "0        1    Lewis Hamilton    2019      1\n",
      "1        2   Valtteri Bottas    2019      1\n",
      "2        3    Max Verstappen    2019      1\n",
      "3        4      Pierre Gasly    2019      1\n",
      "4        5  Sebastian Vettel    2019      1\n",
      "   fp3_pos            Driver  season  round\n",
      "0        1    Lewis Hamilton    2019      1\n",
      "1        2  Sebastian Vettel    2019      1\n",
      "2        3   Charles Leclerc    2019      1\n",
      "3        4   Romain Grosjean    2019      1\n",
      "4        5   Kevin Magnussen    2019      1\n"
     ]
    }
   ],
   "source": [
    "print(FP1_results.head())\n",
    "print(FP2_results.head())\n",
    "print(FP3_results.head())"
   ]
  },
  {
   "cell_type": "code",
   "execution_count": null,
   "metadata": {},
   "outputs": [],
   "source": [
    "# FP1_data.to_csv('/Users/anirudhkrishna/GitHub/FormulaData/FP1_data.csv', index=False)"
   ]
  },
  {
   "cell_type": "code",
   "execution_count": 66,
   "metadata": {},
   "outputs": [],
   "source": [
    "free_practice_results = FP1_results.merge(FP2_results, on=['Driver', 'season', 'round'], how='outer').merge(FP3_results, on=['Driver', 'season', 'round'], how='outer')\n"
   ]
  },
  {
   "cell_type": "code",
   "execution_count": 67,
   "metadata": {},
   "outputs": [
    {
     "name": "stdout",
     "output_type": "stream",
     "text": [
      "     fp1_pos              Driver  season  round  fp2_pos  fp3_pos\n",
      "0        1.0      Lewis Hamilton    2019      1      1.0      1.0\n",
      "1        2.0    Sebastian Vettel    2019      1      5.0      2.0\n",
      "2        3.0     Charles Leclerc    2019      1      9.0      3.0\n",
      "3        4.0      Max Verstappen    2019      1      3.0      9.0\n",
      "4        5.0     Valtteri Bottas    2019      1      2.0      7.0\n",
      "..       ...                 ...     ...    ...      ...      ...\n",
      "772      NaN      George Russell    2020      8     20.0     18.0\n",
      "773      NaN      Kimi Räikkönen    2020     15     17.0     19.0\n",
      "774      NaN      George Russell    2020     15     20.0     16.0\n",
      "775      NaN     Kevin Magnussen    2020     17     16.0     18.0\n",
      "776      NaN  Antonio Giovinazzi    2020     17     17.0     16.0\n",
      "\n",
      "[777 rows x 6 columns]\n"
     ]
    }
   ],
   "source": [
    "print(free_practice_results)"
   ]
  },
  {
   "cell_type": "code",
   "execution_count": 68,
   "metadata": {},
   "outputs": [],
   "source": [
    "free_practice_results.to_csv('/Users/anirudhkrishna/GitHub/FormulaData/free_practice_results.csv', index=False)"
   ]
  }
 ],
 "metadata": {
  "kernelspec": {
   "display_name": "formulakernel",
   "language": "python",
   "name": "formulakernel"
  },
  "language_info": {
   "codemirror_mode": {
    "name": "ipython",
    "version": 3
   },
   "file_extension": ".py",
   "mimetype": "text/x-python",
   "name": "python",
   "nbconvert_exporter": "python",
   "pygments_lexer": "ipython3",
   "version": "3.10.5"
  },
  "orig_nbformat": 4
 },
 "nbformat": 4,
 "nbformat_minor": 2
}
