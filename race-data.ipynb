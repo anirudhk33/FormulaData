{
 "cells": [
  {
   "attachments": {},
   "cell_type": "markdown",
   "metadata": {},
   "source": [
    "# Scraping Race Data from https://www.formula1.com/"
   ]
  },
  {
   "cell_type": "code",
   "execution_count": 78,
   "metadata": {},
   "outputs": [],
   "source": [
    "import pandas as pd\n",
    "import numpy as np\n",
    "import requests\n",
    "from bs4 import BeautifulSoup\n",
    "from selenium import webdriver"
   ]
  },
  {
   "cell_type": "code",
   "execution_count": 79,
   "metadata": {},
   "outputs": [],
   "source": [
    "def parse_circuit_name(link):\n",
    "    country = link.split('/')[6]\n",
    "    country_list = country.split('-')\n",
    "    for i, word in enumerate(country_list):\n",
    "        country_list[i] = word[0].upper() + word[1:]\n",
    "    country = ' '.join(country_list)\n",
    "    return country\n",
    "\n",
    "def parse_driver_name(row):\n",
    "    words = row.split()\n",
    "    parsed_string = ' '.join(words[:-1])\n",
    "    return parsed_string\n",
    "\n",
    "def parse_car_name(row):\n",
    "    words = row.split()\n",
    "    parsed_string = ' '.join(words)\n",
    "    return parsed_string"
   ]
  },
  {
   "cell_type": "code",
   "execution_count": 80,
   "metadata": {},
   "outputs": [
    {
     "name": "stdout",
     "output_type": "stream",
     "text": [
      "1\n",
      "2\n",
      "3\n",
      "4\n",
      "5\n",
      "6\n",
      "7\n",
      "8\n",
      "9\n",
      "10\n",
      "11\n",
      "12\n",
      "13\n",
      "14\n",
      "15\n",
      "16\n",
      "17\n",
      "18\n",
      "19\n",
      "20\n",
      "21\n",
      "22\n",
      "23\n",
      "24\n",
      "25\n",
      "26\n",
      "27\n",
      "28\n",
      "29\n",
      "30\n",
      "31\n",
      "32\n",
      "(640, 10)\n"
     ]
    }
   ],
   "source": [
    "race_results = pd.DataFrame()\n",
    "race_list = pd.DataFrame(columns=['season', 'round', 'circuit'])\n",
    "\n",
    "for year in range(2022, 2024):\n",
    "    races_url = f'https://www.formula1.com/en/results.html/{year}/races.html'\n",
    "    response = requests.get(races_url)\n",
    "    soup = BeautifulSoup(response.text, 'html.parser')\n",
    "\n",
    "    race_links = []\n",
    "    filter_links = soup.find_all('a', attrs={'class': 'resultsarchive-filter-item-link FilterTrigger'})\n",
    "    for link in filter_links:\n",
    "        href = link.get('href')\n",
    "        if f'/en/results.html/{year}/races/' in href:\n",
    "            race_links.append(href)\n",
    "\n",
    "    year_df = pd.DataFrame()\n",
    "\n",
    "    round_num = 1\n",
    "    for race_link in race_links:\n",
    "        circuit = parse_circuit_name(race_link)\n",
    "        try:\n",
    "            df = pd.read_html(f'https://www.formula1.com{race_link}')[0]\n",
    "        except:\n",
    "            continue\n",
    "\n",
    "        df['season'] = year\n",
    "        df['round'] = round_num\n",
    "        df['circuit'] = circuit\n",
    "\n",
    "        df = df.loc[:, ~df.columns.str.contains('Unnamed')]\n",
    "        \n",
    "        year_df = pd.concat([year_df, df], ignore_index=True)   \n",
    "        race_list.loc[len(race_list)] = [year, round_num, circuit]\n",
    "        print(len(race_list))\n",
    "\n",
    "        round_num += 1\n",
    "\n",
    "    race_results = pd.concat([race_results, year_df], ignore_index=True)\n",
    "\n",
    "print(race_results.shape)"
   ]
  },
  {
   "cell_type": "code",
   "execution_count": 81,
   "metadata": {},
   "outputs": [
    {
     "name": "stdout",
     "output_type": "stream",
     "text": [
      "    season  round        circuit\n",
      "0     2022      1        Bahrain\n",
      "1     2022      2   Saudi Arabia\n",
      "2     2022      3      Australia\n",
      "3     2022      4          Italy\n",
      "4     2022      5          Miami\n",
      "5     2022      6          Spain\n",
      "6     2022      7         Monaco\n",
      "7     2022      8     Azerbaijan\n",
      "8     2022      9         Canada\n",
      "9     2022     10  Great Britain\n",
      "10    2022     11        Austria\n",
      "11    2022     12         France\n",
      "12    2022     13        Hungary\n",
      "13    2022     14        Belgium\n",
      "14    2022     15    Netherlands\n",
      "15    2022     16          Italy\n",
      "16    2022     17      Singapore\n",
      "17    2022     18          Japan\n",
      "18    2022     19  United States\n",
      "19    2022     20         Mexico\n",
      "20    2022     21         Brazil\n",
      "21    2022     22      Abu Dhabi\n",
      "22    2023      1        Bahrain\n",
      "23    2023      2   Saudi Arabia\n",
      "24    2023      3      Australia\n",
      "25    2023      4     Azerbaijan\n",
      "26    2023      5          Miami\n",
      "27    2023      6         Monaco\n",
      "28    2023      7          Spain\n",
      "29    2023      8         Canada\n",
      "30    2023      9        Austria\n",
      "31    2023     10  Great Britain\n"
     ]
    }
   ],
   "source": [
    "print(race_list)"
   ]
  },
  {
   "cell_type": "code",
   "execution_count": 82,
   "metadata": {},
   "outputs": [
    {
     "name": "stdout",
     "output_type": "stream",
     "text": [
      "    Pos  No                 Driver                    Car  Laps Time/Retired  \\\n",
      "0     1  16  Charles  Leclerc  LEC                Ferrari    57  1:37:33.584   \n",
      "1     2  55     Carlos  Sainz  SAI                Ferrari    57      +5.598s   \n",
      "2     3  44   Lewis  Hamilton  HAM               Mercedes    57      +9.675s   \n",
      "3     4  63   George  Russell  RUS               Mercedes    57     +11.211s   \n",
      "4     5  20  Kevin  Magnussen  MAG           Haas Ferrari    57     +14.754s   \n",
      "..   ..  ..                    ...                    ...   ...          ...   \n",
      "635  16  22     Yuki  Tsunoda  TSU  AlphaTauri Honda RBPT    52     +31.225s   \n",
      "636  17  21    Nyck  De Vries  DEV  AlphaTauri Honda RBPT    52     +33.128s   \n",
      "637  18  10     Pierre  Gasly  GAS         Alpine Renault    46          DNF   \n",
      "638  NC  20  Kevin  Magnussen  MAG           Haas Ferrari    31          DNF   \n",
      "639  NC  31     Esteban  Ocon  OCO         Alpine Renault     9          DNF   \n",
      "\n",
      "     PTS  season  round        circuit  \n",
      "0     26    2022      1        Bahrain  \n",
      "1     18    2022      1        Bahrain  \n",
      "2     15    2022      1        Bahrain  \n",
      "3     12    2022      1        Bahrain  \n",
      "4     10    2022      1        Bahrain  \n",
      "..   ...     ...    ...            ...  \n",
      "635    0    2023     10  Great Britain  \n",
      "636    0    2023     10  Great Britain  \n",
      "637    0    2023     10  Great Britain  \n",
      "638    0    2023     10  Great Britain  \n",
      "639    0    2023     10  Great Britain  \n",
      "\n",
      "[640 rows x 10 columns]\n"
     ]
    }
   ],
   "source": [
    "print(race_results)"
   ]
  },
  {
   "cell_type": "code",
   "execution_count": 83,
   "metadata": {},
   "outputs": [],
   "source": [
    "race_results[\"Driver\"] = race_results[\"Driver\"].apply(parse_driver_name)\n",
    "race_results[\"Car\"] = race_results[\"Car\"].apply(parse_car_name)\n",
    "race_results.rename(columns = {'Pos': 'finishing_position', 'No': 'car_number', 'Driver': 'driver_name', 'Car': 'car',\n",
    "                                     'Laps': 'laps', 'Time/Retired': 'race_time', 'PTS': 'points'}, inplace = True)"
   ]
  },
  {
   "cell_type": "code",
   "execution_count": 84,
   "metadata": {},
   "outputs": [
    {
     "name": "stdout",
     "output_type": "stream",
     "text": [
      "    finishing_position  car_number      driver_name                    car  \\\n",
      "0                    1          16  Charles Leclerc                Ferrari   \n",
      "1                    2          55     Carlos Sainz                Ferrari   \n",
      "2                    3          44   Lewis Hamilton               Mercedes   \n",
      "3                    4          63   George Russell               Mercedes   \n",
      "4                    5          20  Kevin Magnussen           Haas Ferrari   \n",
      "..                 ...         ...              ...                    ...   \n",
      "635                 16          22     Yuki Tsunoda  AlphaTauri Honda RBPT   \n",
      "636                 17          21    Nyck De Vries  AlphaTauri Honda RBPT   \n",
      "637                 18          10     Pierre Gasly         Alpine Renault   \n",
      "638                 NC          20  Kevin Magnussen           Haas Ferrari   \n",
      "639                 NC          31     Esteban Ocon         Alpine Renault   \n",
      "\n",
      "     laps    race_time  points  season  round        circuit  \n",
      "0      57  1:37:33.584      26    2022      1        Bahrain  \n",
      "1      57      +5.598s      18    2022      1        Bahrain  \n",
      "2      57      +9.675s      15    2022      1        Bahrain  \n",
      "3      57     +11.211s      12    2022      1        Bahrain  \n",
      "4      57     +14.754s      10    2022      1        Bahrain  \n",
      "..    ...          ...     ...     ...    ...            ...  \n",
      "635    52     +31.225s       0    2023     10  Great Britain  \n",
      "636    52     +33.128s       0    2023     10  Great Britain  \n",
      "637    46          DNF       0    2023     10  Great Britain  \n",
      "638    31          DNF       0    2023     10  Great Britain  \n",
      "639     9          DNF       0    2023     10  Great Britain  \n",
      "\n",
      "[640 rows x 10 columns]\n"
     ]
    }
   ],
   "source": [
    "print(race_results)"
   ]
  },
  {
   "cell_type": "code",
   "execution_count": 85,
   "metadata": {},
   "outputs": [],
   "source": [
    "race_list.to_csv('/Users/anirudhkrishna/GitHub/FormulaData/race_list.csv', index=False)"
   ]
  },
  {
   "cell_type": "code",
   "execution_count": null,
   "metadata": {},
   "outputs": [],
   "source": []
  }
 ],
 "metadata": {
  "kernelspec": {
   "display_name": "formulakernel",
   "language": "python",
   "name": "formulakernel"
  },
  "language_info": {
   "codemirror_mode": {
    "name": "ipython",
    "version": 3
   },
   "file_extension": ".py",
   "mimetype": "text/x-python",
   "name": "python",
   "nbconvert_exporter": "python",
   "pygments_lexer": "ipython3",
   "version": "3.10.5"
  },
  "orig_nbformat": 4
 },
 "nbformat": 4,
 "nbformat_minor": 2
}
