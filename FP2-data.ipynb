{
 "cells": [
  {
   "cell_type": "code",
   "execution_count": 1,
   "metadata": {},
   "outputs": [],
   "source": [
    "import pandas as pd\n",
    "import numpy as np\n",
    "import requests\n",
    "from bs4 import BeautifulSoup\n",
    "from selenium import webdriver"
   ]
  },
  {
   "cell_type": "code",
   "execution_count": 2,
   "metadata": {},
   "outputs": [],
   "source": [
    "def parse_driver_name(row):\n",
    "    words = row.split()\n",
    "    parsed_string = ' '.join(words[:-1])\n",
    "    return parsed_string"
   ]
  },
  {
   "cell_type": "code",
   "execution_count": 3,
   "metadata": {},
   "outputs": [
    {
     "name": "stdout",
     "output_type": "stream",
     "text": [
      "(757, 4)\n"
     ]
    }
   ],
   "source": [
    "FP1_results = pd.DataFrame()\n",
    "\n",
    "for year in range(2019, 2021):\n",
    "    races_url = f'https://www.formula1.com/en/results.html/{year}/races.html'\n",
    "    response = requests.get(races_url)\n",
    "    soup = BeautifulSoup(response.text, 'html.parser')\n",
    "\n",
    "    race_links = []\n",
    "    filter_links = soup.find_all('a', attrs={'class': 'resultsarchive-filter-item-link FilterTrigger'})\n",
    "    for link in filter_links:\n",
    "        href = link.get('href')\n",
    "        if f'/en/results.html/{year}/races/' in href:\n",
    "            race_links.append(href)\n",
    "\n",
    "    year_df = pd.DataFrame()\n",
    "\n",
    "    round_num = 1\n",
    "    for race_link in race_links:\n",
    "        FP1_link = race_link.replace('race-result.html', 'practice-1.html')\n",
    "        try:\n",
    "            df = pd.read_html(f'https://www.formula1.com{FP1_link}')[0]\n",
    "            df = df[['Pos','Driver']]\n",
    "        except:\n",
    "            try: \n",
    "                ignore = pd.read_html(f'https://www.formula1.com{race_link}')[0]\n",
    "                round_num+=1\n",
    "                continue\n",
    "            except:\n",
    "                continue\n",
    "        df['season'] = year\n",
    "        df['round'] = round_num\n",
    "        df = df.loc[:, ~df.columns.str.contains('Unnamed')]\n",
    "        year_df = pd.concat([year_df, df], ignore_index=True)\n",
    "        round_num += 1\n",
    "\n",
    "    FP1_results = pd.concat([FP1_results, year_df], ignore_index=True)\n",
    "\n",
    "print(FP1_results.shape)"
   ]
  },
  {
   "cell_type": "code",
   "execution_count": 4,
   "metadata": {},
   "outputs": [],
   "source": [
    "FP1_results[\"Driver\"] = FP1_results[\"Driver\"].apply(parse_driver_name)"
   ]
  },
  {
   "cell_type": "code",
   "execution_count": 5,
   "metadata": {},
   "outputs": [
    {
     "name": "stdout",
     "output_type": "stream",
     "text": [
      "     Pos             Driver  season  round\n",
      "0      1     Lewis Hamilton    2019      1\n",
      "1      2   Sebastian Vettel    2019      1\n",
      "2      3    Charles Leclerc    2019      1\n",
      "3      4     Max Verstappen    2019      1\n",
      "4      5    Valtteri Bottas    2019      1\n",
      "..   ...                ...     ...    ...\n",
      "752   16     George Russell    2020     17\n",
      "753   17    Nicholas Latifi    2020     17\n",
      "754   18    Mick Schumacher    2020     17\n",
      "755   19  Pietro Fittipaldi    2020     17\n",
      "756   20   Daniel Ricciardo    2020     17\n",
      "\n",
      "[757 rows x 4 columns]\n"
     ]
    }
   ],
   "source": [
    "print(FP1_results)"
   ]
  },
  {
   "cell_type": "code",
   "execution_count": null,
   "metadata": {},
   "outputs": [],
   "source": []
  }
 ],
 "metadata": {
  "kernelspec": {
   "display_name": "formulakernel",
   "language": "python",
   "name": "formulakernel"
  },
  "language_info": {
   "codemirror_mode": {
    "name": "ipython",
    "version": 3
   },
   "file_extension": ".py",
   "mimetype": "text/x-python",
   "name": "python",
   "nbconvert_exporter": "python",
   "pygments_lexer": "ipython3",
   "version": "3.10.5"
  },
  "orig_nbformat": 4
 },
 "nbformat": 4,
 "nbformat_minor": 2
}
